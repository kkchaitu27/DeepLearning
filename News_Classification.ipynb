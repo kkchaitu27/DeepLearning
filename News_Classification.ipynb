{
  "nbformat": 4,
  "nbformat_minor": 0,
  "metadata": {
    "colab": {
      "name": "News Classification",
      "provenance": [],
      "collapsed_sections": [],
      "toc_visible": true,
      "include_colab_link": true
    },
    "kernelspec": {
      "name": "python3",
      "display_name": "Python 3"
    },
    "accelerator": "GPU"
  },
  "cells": [
    {
      "cell_type": "markdown",
      "metadata": {
        "id": "view-in-github",
        "colab_type": "text"
      },
      "source": [
        "<a href=\"https://colab.research.google.com/github/kkchaitu27/DeepLearning/blob/master/News_Classification.ipynb\" target=\"_parent\"><img src=\"https://colab.research.google.com/assets/colab-badge.svg\" alt=\"Open In Colab\"/></a>"
      ]
    },
    {
      "cell_type": "markdown",
      "metadata": {
        "id": "h44HoEUFNKdJ",
        "colab_type": "text"
      },
      "source": [
        "# **News Classification**"
      ]
    },
    {
      "cell_type": "markdown",
      "metadata": {
        "id": "yTjysHteNSA0",
        "colab_type": "text"
      },
      "source": [
        "AG News\tXiang Zhang et al., 2015\t\n",
        "496,835 categorized news articles from >2000 news sources from the 4 largest classes from AG’s corpus of news articles, using only the title and description fields. The number of training samples for each class is 30,000 and testing 1900.\n",
        "\n",
        "Achieved test error rate of 6% which is much better than 7.8% obtained in the paper. More epochs will increase the accuracy."
      ]
    },
    {
      "cell_type": "code",
      "metadata": {
        "id": "Wv8l70Nzpd5c",
        "colab_type": "code",
        "colab": {}
      },
      "source": [
        "%reload_ext autoreload\n",
        "%autoreload 2\n",
        "%matplotlib inline"
      ],
      "execution_count": 0,
      "outputs": []
    },
    {
      "cell_type": "markdown",
      "metadata": {
        "id": "3gLtvm4dOhyD",
        "colab_type": "text"
      },
      "source": [
        "Import fastai code"
      ]
    },
    {
      "cell_type": "code",
      "metadata": {
        "id": "DaPerEt9phSO",
        "colab_type": "code",
        "colab": {}
      },
      "source": [
        "from fastai.text import *\n",
        "import pandas as pd"
      ],
      "execution_count": 0,
      "outputs": []
    },
    {
      "cell_type": "markdown",
      "metadata": {
        "id": "KKV1Fas8Op-c",
        "colab_type": "text"
      },
      "source": [
        "Download\n",
        "\n",
        "AG News Xiang Zhang et al., 2015\n",
        "496,835 categorized news articles from >2000 news sources from the 4 largest classes from AG’s corpus of news articles, using only the title and description fields. The number of training samples for each class is 30,000 and testing 1900.\n",
        "\n"
      ]
    },
    {
      "cell_type": "code",
      "metadata": {
        "id": "kWu-3QLZpklX",
        "colab_type": "code",
        "outputId": "8397a26c-b745-47bc-8020-c31afacdfc18",
        "colab": {
          "base_uri": "https://localhost:8080/",
          "height": 85
        }
      },
      "source": [
        "path = untar_data(URLs.AG_NEWS)\n",
        "path.ls()"
      ],
      "execution_count": 3,
      "outputs": [
        {
          "output_type": "execute_result",
          "data": {
            "text/plain": [
              "[PosixPath('/root/.fastai/data/ag_news_csv/readme.txt'),\n",
              " PosixPath('/root/.fastai/data/ag_news_csv/train.csv'),\n",
              " PosixPath('/root/.fastai/data/ag_news_csv/classes.txt'),\n",
              " PosixPath('/root/.fastai/data/ag_news_csv/test.csv')]"
            ]
          },
          "metadata": {
            "tags": []
          },
          "execution_count": 3
        }
      ]
    },
    {
      "cell_type": "markdown",
      "metadata": {
        "id": "k_6ZxgxKOvyz",
        "colab_type": "text"
      },
      "source": [
        "Open readme text present in the download"
      ]
    },
    {
      "cell_type": "code",
      "metadata": {
        "id": "qwS2FjrBwKti",
        "colab_type": "code",
        "outputId": "1bfb9d9a-fb5c-4e79-e2fe-d19cda215ab2",
        "colab": {
          "base_uri": "https://localhost:8080/",
          "height": 360
        }
      },
      "source": [
        "cat /root/.fastai/data/ag_news_csv/readme.txt"
      ],
      "execution_count": 4,
      "outputs": [
        {
          "output_type": "stream",
          "text": [
            "AG's News Topic Classification Dataset\n",
            "\n",
            "Version 3, Updated 09/09/2015\n",
            "\n",
            "\n",
            "ORIGIN\n",
            "\n",
            "AG is a collection of more than 1 million news articles. News articles have been gathered from more than 2000  news sources by ComeToMyHead in more than 1 year of activity. ComeToMyHead is an academic news search engine which has been running since July, 2004. The dataset is provided by the academic comunity for research purposes in data mining (clustering, classification, etc), information retrieval (ranking, search, etc), xml, data compression, data streaming, and any other non-commercial activity. For more information, please refer to the link http://www.di.unipi.it/~gulli/AG_corpus_of_news_articles.html .\n",
            "\n",
            "The AG's news topic classification dataset is constructed by Xiang Zhang (xiang.zhang@nyu.edu) from the dataset above. It is used as a text classification benchmark in the following paper: Xiang Zhang, Junbo Zhao, Yann LeCun. Character-level Convolutional Networks for Text Classification. Advances in Neural Information Processing Systems 28 (NIPS 2015).\n",
            "\n",
            "\n",
            "DESCRIPTION\n",
            "\n",
            "The AG's news topic classification dataset is constructed by choosing 4 largest classes from the original corpus. Each class contains 30,000 training samples and 1,900 testing samples. The total number of training samples is 120,000 and testing 7,600.\n",
            "\n",
            "The file classes.txt contains a list of classes corresponding to each label.\n",
            "\n",
            "The files train.csv and test.csv contain all the training samples as comma-sparated values. There are 3 columns in them, corresponding to class index (1 to 4), title and description. The title and description are escaped using double quotes (\"), and any internal double quote is escaped by 2 double quotes (\"\"). New lines are escaped by a backslash followed with an \"n\" character, that is \"\\n\".\n"
          ],
          "name": "stdout"
        }
      ]
    },
    {
      "cell_type": "markdown",
      "metadata": {
        "id": "tR19DBxiO0L6",
        "colab_type": "text"
      },
      "source": [
        "Viewing 4 classes present in the dataset"
      ]
    },
    {
      "cell_type": "code",
      "metadata": {
        "id": "kPoHYOOcxLFY",
        "colab_type": "code",
        "outputId": "3af68af9-c1d6-49c1-ef89-836e62443674",
        "colab": {
          "base_uri": "https://localhost:8080/",
          "height": 85
        }
      },
      "source": [
        "cat /root/.fastai/data/ag_news_csv/classes.txt"
      ],
      "execution_count": 5,
      "outputs": [
        {
          "output_type": "stream",
          "text": [
            "World\n",
            "Sports\n",
            "Business\n",
            "Sci/Tech\n"
          ],
          "name": "stdout"
        }
      ]
    },
    {
      "cell_type": "markdown",
      "metadata": {
        "id": "C2FURNizO7SL",
        "colab_type": "text"
      },
      "source": [
        "Loading train.csv with columns of class, title and description."
      ]
    },
    {
      "cell_type": "code",
      "metadata": {
        "id": "goCUQIJdp8Ms",
        "colab_type": "code",
        "outputId": "d85f13a7-305c-4ca6-dfc3-5cc997cf8338",
        "colab": {
          "base_uri": "https://localhost:8080/",
          "height": 204
        }
      },
      "source": [
        "df_train = pd.read_csv(path/'train.csv',  names=[\"class\", \"title\", \"description\"])\n",
        "df_train.head()"
      ],
      "execution_count": 6,
      "outputs": [
        {
          "output_type": "execute_result",
          "data": {
            "text/html": [
              "<div>\n",
              "<style scoped>\n",
              "    .dataframe tbody tr th:only-of-type {\n",
              "        vertical-align: middle;\n",
              "    }\n",
              "\n",
              "    .dataframe tbody tr th {\n",
              "        vertical-align: top;\n",
              "    }\n",
              "\n",
              "    .dataframe thead th {\n",
              "        text-align: right;\n",
              "    }\n",
              "</style>\n",
              "<table border=\"1\" class=\"dataframe\">\n",
              "  <thead>\n",
              "    <tr style=\"text-align: right;\">\n",
              "      <th></th>\n",
              "      <th>class</th>\n",
              "      <th>title</th>\n",
              "      <th>description</th>\n",
              "    </tr>\n",
              "  </thead>\n",
              "  <tbody>\n",
              "    <tr>\n",
              "      <th>0</th>\n",
              "      <td>3</td>\n",
              "      <td>Wall St. Bears Claw Back Into the Black (Reuters)</td>\n",
              "      <td>Reuters - Short-sellers, Wall Street's dwindli...</td>\n",
              "    </tr>\n",
              "    <tr>\n",
              "      <th>1</th>\n",
              "      <td>3</td>\n",
              "      <td>Carlyle Looks Toward Commercial Aerospace (Reu...</td>\n",
              "      <td>Reuters - Private investment firm Carlyle Grou...</td>\n",
              "    </tr>\n",
              "    <tr>\n",
              "      <th>2</th>\n",
              "      <td>3</td>\n",
              "      <td>Oil and Economy Cloud Stocks' Outlook (Reuters)</td>\n",
              "      <td>Reuters - Soaring crude prices plus worries\\ab...</td>\n",
              "    </tr>\n",
              "    <tr>\n",
              "      <th>3</th>\n",
              "      <td>3</td>\n",
              "      <td>Iraq Halts Oil Exports from Main Southern Pipe...</td>\n",
              "      <td>Reuters - Authorities have halted oil export\\f...</td>\n",
              "    </tr>\n",
              "    <tr>\n",
              "      <th>4</th>\n",
              "      <td>3</td>\n",
              "      <td>Oil prices soar to all-time record, posing new...</td>\n",
              "      <td>AFP - Tearaway world oil prices, toppling reco...</td>\n",
              "    </tr>\n",
              "  </tbody>\n",
              "</table>\n",
              "</div>"
            ],
            "text/plain": [
              "   class  ...                                        description\n",
              "0      3  ...  Reuters - Short-sellers, Wall Street's dwindli...\n",
              "1      3  ...  Reuters - Private investment firm Carlyle Grou...\n",
              "2      3  ...  Reuters - Soaring crude prices plus worries\\ab...\n",
              "3      3  ...  Reuters - Authorities have halted oil export\\f...\n",
              "4      3  ...  AFP - Tearaway world oil prices, toppling reco...\n",
              "\n",
              "[5 rows x 3 columns]"
            ]
          },
          "metadata": {
            "tags": []
          },
          "execution_count": 6
        }
      ]
    },
    {
      "cell_type": "markdown",
      "metadata": {
        "id": "zFWt-yh4PFmL",
        "colab_type": "text"
      },
      "source": [
        "Loading test.csv with columns of class, title and description."
      ]
    },
    {
      "cell_type": "code",
      "metadata": {
        "id": "VK72oqwP3wMd",
        "colab_type": "code",
        "outputId": "0c69c0d0-f073-4465-cbca-f07c545967ea",
        "colab": {
          "base_uri": "https://localhost:8080/",
          "height": 204
        }
      },
      "source": [
        "df_test = pd.read_csv(path/'test.csv',  names=[\"class\", \"title\", \"description\"])\n",
        "df_test.head()"
      ],
      "execution_count": 7,
      "outputs": [
        {
          "output_type": "execute_result",
          "data": {
            "text/html": [
              "<div>\n",
              "<style scoped>\n",
              "    .dataframe tbody tr th:only-of-type {\n",
              "        vertical-align: middle;\n",
              "    }\n",
              "\n",
              "    .dataframe tbody tr th {\n",
              "        vertical-align: top;\n",
              "    }\n",
              "\n",
              "    .dataframe thead th {\n",
              "        text-align: right;\n",
              "    }\n",
              "</style>\n",
              "<table border=\"1\" class=\"dataframe\">\n",
              "  <thead>\n",
              "    <tr style=\"text-align: right;\">\n",
              "      <th></th>\n",
              "      <th>class</th>\n",
              "      <th>title</th>\n",
              "      <th>description</th>\n",
              "    </tr>\n",
              "  </thead>\n",
              "  <tbody>\n",
              "    <tr>\n",
              "      <th>0</th>\n",
              "      <td>3</td>\n",
              "      <td>Fears for T N pension after talks</td>\n",
              "      <td>Unions representing workers at Turner   Newall...</td>\n",
              "    </tr>\n",
              "    <tr>\n",
              "      <th>1</th>\n",
              "      <td>4</td>\n",
              "      <td>The Race is On: Second Private Team Sets Launc...</td>\n",
              "      <td>SPACE.com - TORONTO, Canada -- A second\\team o...</td>\n",
              "    </tr>\n",
              "    <tr>\n",
              "      <th>2</th>\n",
              "      <td>4</td>\n",
              "      <td>Ky. Company Wins Grant to Study Peptides (AP)</td>\n",
              "      <td>AP - A company founded by a chemistry research...</td>\n",
              "    </tr>\n",
              "    <tr>\n",
              "      <th>3</th>\n",
              "      <td>4</td>\n",
              "      <td>Prediction Unit Helps Forecast Wildfires (AP)</td>\n",
              "      <td>AP - It's barely dawn when Mike Fitzpatrick st...</td>\n",
              "    </tr>\n",
              "    <tr>\n",
              "      <th>4</th>\n",
              "      <td>4</td>\n",
              "      <td>Calif. Aims to Limit Farm-Related Smog (AP)</td>\n",
              "      <td>AP - Southern California's smog-fighting agenc...</td>\n",
              "    </tr>\n",
              "  </tbody>\n",
              "</table>\n",
              "</div>"
            ],
            "text/plain": [
              "   class  ...                                        description\n",
              "0      3  ...  Unions representing workers at Turner   Newall...\n",
              "1      4  ...  SPACE.com - TORONTO, Canada -- A second\\team o...\n",
              "2      4  ...  AP - A company founded by a chemistry research...\n",
              "3      4  ...  AP - It's barely dawn when Mike Fitzpatrick st...\n",
              "4      4  ...  AP - Southern California's smog-fighting agenc...\n",
              "\n",
              "[5 rows x 3 columns]"
            ]
          },
          "metadata": {
            "tags": []
          },
          "execution_count": 7
        }
      ]
    },
    {
      "cell_type": "markdown",
      "metadata": {
        "id": "F_dUGfbVPJtY",
        "colab_type": "text"
      },
      "source": [
        "Appending train and test datasets to train character level model using transfer learing of wikipedia text dataset model."
      ]
    },
    {
      "cell_type": "code",
      "metadata": {
        "id": "ucs6ZRJK32LC",
        "colab_type": "code",
        "colab": {}
      },
      "source": [
        "df = df_train.append(df_test, ignore_index=True)"
      ],
      "execution_count": 0,
      "outputs": []
    },
    {
      "cell_type": "markdown",
      "metadata": {
        "id": "h5qmIbIZPZI3",
        "colab_type": "text"
      },
      "source": [
        "Giving title and description columns for language modeling."
      ]
    },
    {
      "cell_type": "code",
      "metadata": {
        "id": "fbXVIWE7w0Eo",
        "colab_type": "code",
        "colab": {}
      },
      "source": [
        "data_lm = (TextList.from_df(df, path, cols=['title', 'description'])\n",
        "                .split_by_rand_pct(0.1)\n",
        "                .label_for_lm()\n",
        "                .databunch(bs=64))"
      ],
      "execution_count": 0,
      "outputs": []
    },
    {
      "cell_type": "markdown",
      "metadata": {
        "id": "yaSVDsTYPfZF",
        "colab_type": "text"
      },
      "source": [
        "Save language model."
      ]
    },
    {
      "cell_type": "code",
      "metadata": {
        "id": "58nHzWsOzbpO",
        "colab_type": "code",
        "colab": {}
      },
      "source": [
        "data_lm.save(\"data_lm\")"
      ],
      "execution_count": 0,
      "outputs": []
    },
    {
      "cell_type": "markdown",
      "metadata": {
        "id": "xPd5eRC8Phvj",
        "colab_type": "text"
      },
      "source": [
        "Load language model."
      ]
    },
    {
      "cell_type": "code",
      "metadata": {
        "id": "OaQaaKjU4m5K",
        "colab_type": "code",
        "colab": {}
      },
      "source": [
        "data_lm = load_data(path, 'data_lm')"
      ],
      "execution_count": 0,
      "outputs": []
    },
    {
      "cell_type": "markdown",
      "metadata": {
        "id": "yBti-2_UPlij",
        "colab_type": "text"
      },
      "source": [
        "Length of train and test datasets"
      ]
    },
    {
      "cell_type": "code",
      "metadata": {
        "id": "r2CAc8mG4urX",
        "colab_type": "code",
        "outputId": "2c75c940-fe4b-4f50-d168-8ce6a1389cac",
        "colab": {
          "base_uri": "https://localhost:8080/",
          "height": 34
        }
      },
      "source": [
        "len(data_lm.train_ds), len(data_lm.valid_ds)"
      ],
      "execution_count": 12,
      "outputs": [
        {
          "output_type": "execute_result",
          "data": {
            "text/plain": [
              "(114840, 12760)"
            ]
          },
          "metadata": {
            "tags": []
          },
          "execution_count": 12
        }
      ]
    },
    {
      "cell_type": "markdown",
      "metadata": {
        "id": "toO8aGYzPpwd",
        "colab_type": "text"
      },
      "source": [
        "Viewing a batch in the language model dataset."
      ]
    },
    {
      "cell_type": "code",
      "metadata": {
        "id": "92KikDsN5Qm1",
        "colab_type": "code",
        "outputId": "a100bacb-28b5-4735-d2e1-f5e53c8add7c",
        "colab": {
          "base_uri": "https://localhost:8080/",
          "height": 425
        }
      },
      "source": [
        "data_lm.show_batch()"
      ],
      "execution_count": 13,
      "outputs": [
        {
          "output_type": "display_data",
          "data": {
            "text/html": [
              "<table border=\"1\" class=\"dataframe\">\n",
              "  <thead>\n",
              "    <tr style=\"text-align: right;\">\n",
              "      <th>idx</th>\n",
              "      <th>text</th>\n",
              "    </tr>\n",
              "  </thead>\n",
              "  <tbody>\n",
              "    <tr>\n",
              "      <td>0</td>\n",
              "      <td>' xxmaj outlook ( xxmaj reuters ) xxmaj reuters - xxmaj soaring crude prices plus worries \\ about the economy and the outlook for earnings are expected to \\ hang over the stock market next week during the depth of the \\ summer doldrums . xxbos xxmaj iraq xxmaj halts xxmaj oil xxmaj exports from xxmaj main xxmaj southern xxmaj pipeline ( xxmaj reuters ) xxmaj reuters - xxmaj authorities</td>\n",
              "    </tr>\n",
              "    <tr>\n",
              "      <td>1</td>\n",
              "      <td>the testing would be abandoned , critics said xxmaj tuesday . xxbos xxmaj americans xxmaj settle for 1 - 1 xxmaj tie xxmaj with xxmaj aussies xxup thessaloniki , xxmaj greece - xxmaj the xxup u.s. women 's soccer team needed only a tie xxmaj tuesday and that 's all it got - settling for a draw against a team it had always beaten ... xxbos xxmaj ill. xxmaj plans</td>\n",
              "    </tr>\n",
              "    <tr>\n",
              "      <td>2</td>\n",
              "      <td>xxmaj shares of xxup jjb xxmaj sports xxmaj plc , xxmaj britain 's largest sporting - goods retailer , had their biggest decline in at least two years after the company said profit this fiscal year may be about 20 percent less than forecast amid declining sales . xxbos xxmaj workplace beware xxup the xxup labor xxmaj department 's trumpeting of its new regulations governing overtime , which go into</td>\n",
              "    </tr>\n",
              "    <tr>\n",
              "      <td>3</td>\n",
              "      <td>xxmaj friday . xxbos xxmaj najaf xxmaj standoff xxmaj continues xxmaj shi ' ite militiamen continue to occupy the xxmaj imam xxmaj ali shrine in the xxmaj iraqi city of xxmaj najaf , despite religious authorities ' efforts to end the 17-day standoff . xxbos xxmaj more xxmaj violence in xxmaj nepal on 4th xxmaj day of xxmaj rebel xxmaj blockade xxmaj in xxmaj nepal , fresh violence has erupted</td>\n",
              "    </tr>\n",
              "    <tr>\n",
              "      <td>4</td>\n",
              "      <td>cut about 3,000 jobs at xxmaj abbey xxmaj national as part of a cost - saving plan if its friendly takeover bid succeeds . xxbos xxmaj the xxup u.s. xxmaj grabs the xxmaj gold in xxmaj softball xxup athens ( xxmaj reuters ) - xxmaj the xxmaj united xxmaj states softball team came into xxmaj athens on a simple mission -- take home their third straight gold medal or call</td>\n",
              "    </tr>\n",
              "  </tbody>\n",
              "</table>"
            ],
            "text/plain": [
              "<IPython.core.display.HTML object>"
            ]
          },
          "metadata": {
            "tags": []
          }
        }
      ]
    },
    {
      "cell_type": "markdown",
      "metadata": {
        "id": "r91AznuDPzlR",
        "colab_type": "text"
      },
      "source": [
        "Viewing a sample data"
      ]
    },
    {
      "cell_type": "code",
      "metadata": {
        "id": "y0uu4GpG6KL4",
        "colab_type": "code",
        "outputId": "c32e6414-d08c-47ce-c422-7d45789b4799",
        "colab": {
          "base_uri": "https://localhost:8080/",
          "height": 54
        }
      },
      "source": [
        "data_lm.train_ds[100][0]"
      ],
      "execution_count": 14,
      "outputs": [
        {
          "output_type": "execute_result",
          "data": {
            "text/plain": [
              "Text xxbos xxmaj ants xxmaj form xxmaj xxunk xxmaj spanning 60 xxmaj miles ( xxup ap ) xxup ap - xxmaj normally xxunk and xxunk xxmaj argentine ants have become so laid back since arriving in xxmaj australia decades ago that they no longer fight neighboring nests and have formed a xxunk here that spans 60 miles , scientists say ."
            ]
          },
          "metadata": {
            "tags": []
          },
          "execution_count": 14
        }
      ]
    },
    {
      "cell_type": "markdown",
      "metadata": {
        "id": "HL9hMQY-P3Qi",
        "colab_type": "text"
      },
      "source": [
        "Viweing vocabulary for the language model."
      ]
    },
    {
      "cell_type": "code",
      "metadata": {
        "id": "zFD7wI1a6NZg",
        "colab_type": "code",
        "outputId": "9b17dc52-a68f-4bef-a2f9-2a09cd831960",
        "colab": {
          "base_uri": "https://localhost:8080/",
          "height": 187
        }
      },
      "source": [
        "data_lm.vocab.itos[:10]"
      ],
      "execution_count": 15,
      "outputs": [
        {
          "output_type": "execute_result",
          "data": {
            "text/plain": [
              "['xxunk',\n",
              " 'xxpad',\n",
              " 'xxbos',\n",
              " 'xxeos',\n",
              " 'xxfld',\n",
              " 'xxmaj',\n",
              " 'xxup',\n",
              " 'xxrep',\n",
              " 'xxwrep',\n",
              " 'the']"
            ]
          },
          "metadata": {
            "tags": []
          },
          "execution_count": 15
        }
      ]
    },
    {
      "cell_type": "markdown",
      "metadata": {
        "id": "s6TpQKnPP871",
        "colab_type": "text"
      },
      "source": [
        "Batch Size for the language model."
      ]
    },
    {
      "cell_type": "code",
      "metadata": {
        "id": "M7Ya9p_06TPr",
        "colab_type": "code",
        "outputId": "9477ba09-57a2-4329-dc0a-4e63dc5d61b6",
        "colab": {
          "base_uri": "https://localhost:8080/",
          "height": 34
        }
      },
      "source": [
        "data_lm.batch_size"
      ],
      "execution_count": 16,
      "outputs": [
        {
          "output_type": "execute_result",
          "data": {
            "text/plain": [
              "64"
            ]
          },
          "metadata": {
            "tags": []
          },
          "execution_count": 16
        }
      ]
    },
    {
      "cell_type": "markdown",
      "metadata": {
        "id": "lQUVyVclQBxA",
        "colab_type": "text"
      },
      "source": [
        "Creating a language model learner."
      ]
    },
    {
      "cell_type": "code",
      "metadata": {
        "id": "lCYK247-1iEA",
        "colab_type": "code",
        "colab": {}
      },
      "source": [
        "learn = language_model_learner(data_lm, AWD_LSTM, drop_mult=0.3)"
      ],
      "execution_count": 0,
      "outputs": []
    },
    {
      "cell_type": "markdown",
      "metadata": {
        "id": "DK59vb2zQGlK",
        "colab_type": "text"
      },
      "source": [
        "Finding optimum learning rate"
      ]
    },
    {
      "cell_type": "code",
      "metadata": {
        "id": "zYKHfiTR1n-n",
        "colab_type": "code",
        "outputId": "4e8b5c6f-580c-4f40-c409-de71b9d1c950",
        "colab": {
          "base_uri": "https://localhost:8080/",
          "height": 34
        }
      },
      "source": [
        "learn.lr_find()"
      ],
      "execution_count": 18,
      "outputs": [
        {
          "output_type": "display_data",
          "data": {
            "text/html": [
              ""
            ],
            "text/plain": [
              "<IPython.core.display.HTML object>"
            ]
          },
          "metadata": {
            "tags": []
          }
        },
        {
          "output_type": "stream",
          "text": [
            "LR Finder is complete, type {learner_name}.recorder.plot() to see the graph.\n"
          ],
          "name": "stdout"
        }
      ]
    },
    {
      "cell_type": "markdown",
      "metadata": {
        "id": "UDgFKHwiQJ3l",
        "colab_type": "text"
      },
      "source": [
        "Plot of the learning rate finder"
      ]
    },
    {
      "cell_type": "code",
      "metadata": {
        "id": "k8t8VJUt1w2f",
        "colab_type": "code",
        "outputId": "96be7f67-da08-4350-ebf5-7a682ec95103",
        "colab": {
          "base_uri": "https://localhost:8080/",
          "height": 283
        }
      },
      "source": [
        "learn.recorder.plot(skip_end=15)"
      ],
      "execution_count": 19,
      "outputs": [
        {
          "output_type": "display_data",
          "data": {
            "image/png": "[encoded data removed]",
            "text/plain": [
              "<Figure size 432x288 with 1 Axes>"
            ]
          },
          "metadata": {
            "tags": []
          }
        }
      ]
    },
    {
      "cell_type": "markdown",
      "metadata": {
        "id": "0D9Z-fcbQO_w",
        "colab_type": "text"
      },
      "source": [
        "Language Model for one epoch."
      ]
    },
    {
      "cell_type": "code",
      "metadata": {
        "id": "hukGHDji194e",
        "colab_type": "code",
        "outputId": "08f6e6a2-dc6c-4047-d90f-640c8b015802",
        "colab": {
          "base_uri": "https://localhost:8080/",
          "height": 80
        }
      },
      "source": [
        "learn.fit_one_cycle(1, 2e-2, moms=(0.8,0.7))"
      ],
      "execution_count": 20,
      "outputs": [
        {
          "output_type": "display_data",
          "data": {
            "text/html": [
              "<table border=\"1\" class=\"dataframe\">\n",
              "  <thead>\n",
              "    <tr style=\"text-align: left;\">\n",
              "      <th>epoch</th>\n",
              "      <th>train_loss</th>\n",
              "      <th>valid_loss</th>\n",
              "      <th>accuracy</th>\n",
              "      <th>time</th>\n",
              "    </tr>\n",
              "  </thead>\n",
              "  <tbody>\n",
              "    <tr>\n",
              "      <td>0</td>\n",
              "      <td>3.562102</td>\n",
              "      <td>3.357346</td>\n",
              "      <td>0.402387</td>\n",
              "      <td>14:53</td>\n",
              "    </tr>\n",
              "  </tbody>\n",
              "</table>"
            ],
            "text/plain": [
              "<IPython.core.display.HTML object>"
            ]
          },
          "metadata": {
            "tags": []
          }
        }
      ]
    },
    {
      "cell_type": "markdown",
      "metadata": {
        "id": "f84XFvQLQToh",
        "colab_type": "text"
      },
      "source": [
        "Save the model."
      ]
    },
    {
      "cell_type": "code",
      "metadata": {
        "id": "nN4E2TLCwScx",
        "colab_type": "code",
        "colab": {}
      },
      "source": [
        "learn.save('fit_head')"
      ],
      "execution_count": 0,
      "outputs": []
    },
    {
      "cell_type": "markdown",
      "metadata": {
        "id": "9Ueoi-STQWKh",
        "colab_type": "text"
      },
      "source": [
        "Load the model."
      ]
    },
    {
      "cell_type": "code",
      "metadata": {
        "id": "WFTtYpG-wVHI",
        "colab_type": "code",
        "colab": {}
      },
      "source": [
        "learn.load('fit_head');"
      ],
      "execution_count": 0,
      "outputs": []
    },
    {
      "cell_type": "markdown",
      "metadata": {
        "id": "1TZJBI-bQX_Z",
        "colab_type": "text"
      },
      "source": [
        "Unfreeze all the layers in the model."
      ]
    },
    {
      "cell_type": "code",
      "metadata": {
        "id": "BrCL5C1pwXND",
        "colab_type": "code",
        "colab": {}
      },
      "source": [
        "learn.unfreeze()"
      ],
      "execution_count": 0,
      "outputs": []
    },
    {
      "cell_type": "markdown",
      "metadata": {
        "id": "RuU9GsXtQbtw",
        "colab_type": "text"
      },
      "source": [
        "Train for 10 epochs to improve accuracy"
      ]
    },
    {
      "cell_type": "code",
      "metadata": {
        "id": "69gIOBMJwaHu",
        "colab_type": "code",
        "outputId": "19b3ef99-b001-4089-c967-b4d63905afec",
        "colab": {
          "base_uri": "https://localhost:8080/",
          "height": 359
        }
      },
      "source": [
        "learn.fit_one_cycle(10, 1e-3, moms=(0.8,0.7))"
      ],
      "execution_count": 24,
      "outputs": [
        {
          "output_type": "display_data",
          "data": {
            "text/html": [
              "<table border=\"1\" class=\"dataframe\">\n",
              "  <thead>\n",
              "    <tr style=\"text-align: left;\">\n",
              "      <th>epoch</th>\n",
              "      <th>train_loss</th>\n",
              "      <th>valid_loss</th>\n",
              "      <th>accuracy</th>\n",
              "      <th>time</th>\n",
              "    </tr>\n",
              "  </thead>\n",
              "  <tbody>\n",
              "    <tr>\n",
              "      <td>0</td>\n",
              "      <td>3.072685</td>\n",
              "      <td>3.131366</td>\n",
              "      <td>0.429960</td>\n",
              "      <td>17:18</td>\n",
              "    </tr>\n",
              "    <tr>\n",
              "      <td>1</td>\n",
              "      <td>2.957141</td>\n",
              "      <td>2.994036</td>\n",
              "      <td>0.449245</td>\n",
              "      <td>17:18</td>\n",
              "    </tr>\n",
              "    <tr>\n",
              "      <td>2</td>\n",
              "      <td>2.841051</td>\n",
              "      <td>2.908439</td>\n",
              "      <td>0.460622</td>\n",
              "      <td>17:18</td>\n",
              "    </tr>\n",
              "    <tr>\n",
              "      <td>3</td>\n",
              "      <td>2.696838</td>\n",
              "      <td>2.846003</td>\n",
              "      <td>0.472022</td>\n",
              "      <td>17:18</td>\n",
              "    </tr>\n",
              "    <tr>\n",
              "      <td>4</td>\n",
              "      <td>2.539587</td>\n",
              "      <td>2.812414</td>\n",
              "      <td>0.479169</td>\n",
              "      <td>17:18</td>\n",
              "    </tr>\n",
              "    <tr>\n",
              "      <td>5</td>\n",
              "      <td>2.434822</td>\n",
              "      <td>2.792399</td>\n",
              "      <td>0.485186</td>\n",
              "      <td>17:18</td>\n",
              "    </tr>\n",
              "    <tr>\n",
              "      <td>6</td>\n",
              "      <td>2.285687</td>\n",
              "      <td>2.782584</td>\n",
              "      <td>0.489510</td>\n",
              "      <td>17:18</td>\n",
              "    </tr>\n",
              "    <tr>\n",
              "      <td>7</td>\n",
              "      <td>2.165512</td>\n",
              "      <td>2.785569</td>\n",
              "      <td>0.491853</td>\n",
              "      <td>17:18</td>\n",
              "    </tr>\n",
              "    <tr>\n",
              "      <td>8</td>\n",
              "      <td>2.069123</td>\n",
              "      <td>2.793563</td>\n",
              "      <td>0.492955</td>\n",
              "      <td>17:18</td>\n",
              "    </tr>\n",
              "    <tr>\n",
              "      <td>9</td>\n",
              "      <td>2.029353</td>\n",
              "      <td>2.799675</td>\n",
              "      <td>0.492967</td>\n",
              "      <td>17:18</td>\n",
              "    </tr>\n",
              "  </tbody>\n",
              "</table>"
            ],
            "text/plain": [
              "<IPython.core.display.HTML object>"
            ]
          },
          "metadata": {
            "tags": []
          }
        }
      ]
    },
    {
      "cell_type": "markdown",
      "metadata": {
        "id": "_vUWIYpuQhX7",
        "colab_type": "text"
      },
      "source": [
        "Save the fine tuned model."
      ]
    },
    {
      "cell_type": "code",
      "metadata": {
        "id": "KwEh2edgweTX",
        "colab_type": "code",
        "colab": {}
      },
      "source": [
        "learn.save('fine_tuned')"
      ],
      "execution_count": 0,
      "outputs": []
    },
    {
      "cell_type": "markdown",
      "metadata": {
        "id": "kcTMRcvKQkNk",
        "colab_type": "text"
      },
      "source": [
        "Load the fine tuned model."
      ]
    },
    {
      "cell_type": "code",
      "metadata": {
        "id": "nKo_Tcsxwh9W",
        "colab_type": "code",
        "colab": {
          "base_uri": "https://localhost:8080/",
          "height": 1000
        },
        "outputId": "84ded198-861e-4721-dbc1-f4ee6d110e17"
      },
      "source": [
        "learn.load('fine_tuned')"
      ],
      "execution_count": 26,
      "outputs": [
        {
          "output_type": "execute_result",
          "data": {
            "text/plain": [
              "LanguageLearner(data=TextLMDataBunch;\n",
              "\n",
              "Train: LabelList (114840 items)\n",
              "x: LMTextList\n",
              "xxbos xxmaj carlyle xxmaj looks xxmaj toward xxmaj commercial xxmaj aerospace ( xxmaj reuters ) xxmaj reuters - xxmaj private investment firm xxmaj carlyle xxmaj group , \\ which has a reputation for making well - timed and occasionally \\ controversial plays in the defense industry , has quietly placed \\ its bets on another part of the market .,xxbos xxmaj oil and xxmaj economy xxmaj cloud xxmaj stocks ' xxmaj outlook ( xxmaj reuters ) xxmaj reuters - xxmaj soaring crude prices plus worries \\ about the economy and the outlook for earnings are expected to \\ hang over the stock market next week during the depth of the \\ summer doldrums .,xxbos xxmaj iraq xxmaj halts xxmaj oil xxmaj exports from xxmaj main xxmaj southern xxmaj pipeline ( xxmaj reuters ) xxmaj reuters - xxmaj authorities have halted oil export \\ flows from the main pipeline in southern xxmaj iraq after \\ intelligence showed a rebel militia could strike \\ infrastructure , an oil official said on xxmaj saturday .,xxbos xxmaj oil prices soar to all - time record , posing new menace to xxup us economy ( xxup afp ) xxup afp - xxmaj xxunk world oil prices , toppling records and straining wallets , present a new economic menace barely three months before the xxup us presidential elections .,xxbos xxmaj stocks xxmaj end xxmaj up , xxmaj but xxmaj near xxmaj year xxmaj lows ( xxmaj reuters ) xxmaj reuters - xxmaj stocks ended slightly higher on xxmaj friday \\ but stayed near lows for the year as oil prices surged past $ 46 \\ a barrel , offsetting a positive outlook from computer maker \\ xxmaj dell xxmaj inc. ( xxup dell.o )\n",
              "y: LMLabelList\n",
              ",,,,\n",
              "Path: /root/.fastai/data/ag_news_csv;\n",
              "\n",
              "Valid: LabelList (12760 items)\n",
              "x: LMTextList\n",
              "xxbos ' xxmaj honour killings ' law tightened xxmaj pakistan 's xxmaj national xxmaj assembly brings in the death penalty for extreme cases of so - called honour killings .,xxbos a xxmaj matter of xxmaj trust ( xxmaj forbes.com ) xxmaj forbes.com - xxmaj there is more to corporate performance than what you see in the earnings reports . xxmaj could an investor have anticipated the trouble at companies like xxmaj enron , xxmaj adelphia , worldcom and xxmaj tyco by looking more closely at how they were governed and how they kept their books ? xxmaj their problems , to be sure , are far more visible in hindsight , but nonetheless each left telltale signs that all was not well . xxmaj robust reported earnings growth at both xxmaj enron and worldcom was not supported by hard cash . xxmaj the xxmaj adelphia board was stacked with company insiders who turned a blind eye to self - dealing by company executives . ...,xxbos xxmaj schroeder lifted by election win xxmaj chancellor xxmaj gerhard xxmaj schroeder said xxmaj monday he is confident of winning xxmaj germans over to his reform plans and rebuilding his party 's support after avoiding major new losses in local elections in a traditional stronghold .,xxbos xxmaj fairfax e - xxmaj voting xxmaj video xxmaj speaks xxmaj immigrants ' xxmaj languages xxmaj fairfax xxmaj county is putting its technology prowess to work for its new immigrants on xxmaj election xxmaj day .,xxbos xxmaj kerry xxmaj warns of xxmaj social xxmaj security xxmaj changes ( washingtonpost.com ) washingtonpost.com - xxup columbus , xxmaj ohio , xxmaj oct , 17 -- xxmaj john xxup f. xxmaj kerry accused xxmaj president xxmaj bush of having a secret , second - term plan to privatize xxmaj social xxmaj security starting in xxmaj january , telling a church audience xxmaj sunday that the idea is \" a disaster for xxmaj america 's middle class . \"\n",
              "y: LMLabelList\n",
              ",,,,\n",
              "Path: /root/.fastai/data/ag_news_csv;\n",
              "\n",
              "Test: None, model=SequentialRNN(\n",
              "  (0): AWD_LSTM(\n",
              "    (encoder): Embedding(36536, 400, padding_idx=1)\n",
              "    (encoder_dp): EmbeddingDropout(\n",
              "      (emb): Embedding(36536, 400, padding_idx=1)\n",
              "    )\n",
              "    (rnns): ModuleList(\n",
              "      (0): WeightDropout(\n",
              "        (module): LSTM(400, 1152, batch_first=True)\n",
              "      )\n",
              "      (1): WeightDropout(\n",
              "        (module): LSTM(1152, 1152, batch_first=True)\n",
              "      )\n",
              "      (2): WeightDropout(\n",
              "        (module): LSTM(1152, 400, batch_first=True)\n",
              "      )\n",
              "    )\n",
              "    (input_dp): RNNDropout()\n",
              "    (hidden_dps): ModuleList(\n",
              "      (0): RNNDropout()\n",
              "      (1): RNNDropout()\n",
              "      (2): RNNDropout()\n",
              "    )\n",
              "  )\n",
              "  (1): LinearDecoder(\n",
              "    (decoder): Linear(in_features=400, out_features=36536, bias=True)\n",
              "    (output_dp): RNNDropout()\n",
              "  )\n",
              "), opt_func=functools.partial(<class 'torch.optim.adam.Adam'>, betas=(0.9, 0.99)), loss_func=FlattenedLoss of CrossEntropyLoss(), metrics=[<function accuracy at 0x7f70d903eb70>], true_wd=True, bn_wd=True, wd=0.01, train_bn=True, path=PosixPath('/root/.fastai/data/ag_news_csv'), model_dir='models', callback_fns=[functools.partial(<class 'fastai.basic_train.Recorder'>, add_time=True, silent=False)], callbacks=[RNNTrainer\n",
              "learn: LanguageLearner(data=TextLMDataBunch;\n",
              "\n",
              "Train: LabelList (114840 items)\n",
              "x: LMTextList\n",
              "xxbos xxmaj carlyle xxmaj looks xxmaj toward xxmaj commercial xxmaj aerospace ( xxmaj reuters ) xxmaj reuters - xxmaj private investment firm xxmaj carlyle xxmaj group , \\ which has a reputation for making well - timed and occasionally \\ controversial plays in the defense industry , has quietly placed \\ its bets on another part of the market .,xxbos xxmaj oil and xxmaj economy xxmaj cloud xxmaj stocks ' xxmaj outlook ( xxmaj reuters ) xxmaj reuters - xxmaj soaring crude prices plus worries \\ about the economy and the outlook for earnings are expected to \\ hang over the stock market next week during the depth of the \\ summer doldrums .,xxbos xxmaj iraq xxmaj halts xxmaj oil xxmaj exports from xxmaj main xxmaj southern xxmaj pipeline ( xxmaj reuters ) xxmaj reuters - xxmaj authorities have halted oil export \\ flows from the main pipeline in southern xxmaj iraq after \\ intelligence showed a rebel militia could strike \\ infrastructure , an oil official said on xxmaj saturday .,xxbos xxmaj oil prices soar to all - time record , posing new menace to xxup us economy ( xxup afp ) xxup afp - xxmaj xxunk world oil prices , toppling records and straining wallets , present a new economic menace barely three months before the xxup us presidential elections .,xxbos xxmaj stocks xxmaj end xxmaj up , xxmaj but xxmaj near xxmaj year xxmaj lows ( xxmaj reuters ) xxmaj reuters - xxmaj stocks ended slightly higher on xxmaj friday \\ but stayed near lows for the year as oil prices surged past $ 46 \\ a barrel , offsetting a positive outlook from computer maker \\ xxmaj dell xxmaj inc. ( xxup dell.o )\n",
              "y: LMLabelList\n",
              ",,,,\n",
              "Path: /root/.fastai/data/ag_news_csv;\n",
              "\n",
              "Valid: LabelList (12760 items)\n",
              "x: LMTextList\n",
              "xxbos ' xxmaj honour killings ' law tightened xxmaj pakistan 's xxmaj national xxmaj assembly brings in the death penalty for extreme cases of so - called honour killings .,xxbos a xxmaj matter of xxmaj trust ( xxmaj forbes.com ) xxmaj forbes.com - xxmaj there is more to corporate performance than what you see in the earnings reports . xxmaj could an investor have anticipated the trouble at companies like xxmaj enron , xxmaj adelphia , worldcom and xxmaj tyco by looking more closely at how they were governed and how they kept their books ? xxmaj their problems , to be sure , are far more visible in hindsight , but nonetheless each left telltale signs that all was not well . xxmaj robust reported earnings growth at both xxmaj enron and worldcom was not supported by hard cash . xxmaj the xxmaj adelphia board was stacked with company insiders who turned a blind eye to self - dealing by company executives . ...,xxbos xxmaj schroeder lifted by election win xxmaj chancellor xxmaj gerhard xxmaj schroeder said xxmaj monday he is confident of winning xxmaj germans over to his reform plans and rebuilding his party 's support after avoiding major new losses in local elections in a traditional stronghold .,xxbos xxmaj fairfax e - xxmaj voting xxmaj video xxmaj speaks xxmaj immigrants ' xxmaj languages xxmaj fairfax xxmaj county is putting its technology prowess to work for its new immigrants on xxmaj election xxmaj day .,xxbos xxmaj kerry xxmaj warns of xxmaj social xxmaj security xxmaj changes ( washingtonpost.com ) washingtonpost.com - xxup columbus , xxmaj ohio , xxmaj oct , 17 -- xxmaj john xxup f. xxmaj kerry accused xxmaj president xxmaj bush of having a secret , second - term plan to privatize xxmaj social xxmaj security starting in xxmaj january , telling a church audience xxmaj sunday that the idea is \" a disaster for xxmaj america 's middle class . \"\n",
              "y: LMLabelList\n",
              ",,,,\n",
              "Path: /root/.fastai/data/ag_news_csv;\n",
              "\n",
              "Test: None, model=SequentialRNN(\n",
              "  (0): AWD_LSTM(\n",
              "    (encoder): Embedding(36536, 400, padding_idx=1)\n",
              "    (encoder_dp): EmbeddingDropout(\n",
              "      (emb): Embedding(36536, 400, padding_idx=1)\n",
              "    )\n",
              "    (rnns): ModuleList(\n",
              "      (0): WeightDropout(\n",
              "        (module): LSTM(400, 1152, batch_first=True)\n",
              "      )\n",
              "      (1): WeightDropout(\n",
              "        (module): LSTM(1152, 1152, batch_first=True)\n",
              "      )\n",
              "      (2): WeightDropout(\n",
              "        (module): LSTM(1152, 400, batch_first=True)\n",
              "      )\n",
              "    )\n",
              "    (input_dp): RNNDropout()\n",
              "    (hidden_dps): ModuleList(\n",
              "      (0): RNNDropout()\n",
              "      (1): RNNDropout()\n",
              "      (2): RNNDropout()\n",
              "    )\n",
              "  )\n",
              "  (1): LinearDecoder(\n",
              "    (decoder): Linear(in_features=400, out_features=36536, bias=True)\n",
              "    (output_dp): RNNDropout()\n",
              "  )\n",
              "), opt_func=functools.partial(<class 'torch.optim.adam.Adam'>, betas=(0.9, 0.99)), loss_func=FlattenedLoss of CrossEntropyLoss(), metrics=[<function accuracy at 0x7f70d903eb70>], true_wd=True, bn_wd=True, wd=0.01, train_bn=True, path=PosixPath('/root/.fastai/data/ag_news_csv'), model_dir='models', callback_fns=[functools.partial(<class 'fastai.basic_train.Recorder'>, add_time=True, silent=False)], callbacks=[...], layer_groups=[Sequential(\n",
              "  (0): WeightDropout(\n",
              "    (module): LSTM(400, 1152, batch_first=True)\n",
              "  )\n",
              "  (1): RNNDropout()\n",
              "), Sequential(\n",
              "  (0): WeightDropout(\n",
              "    (module): LSTM(1152, 1152, batch_first=True)\n",
              "  )\n",
              "  (1): RNNDropout()\n",
              "), Sequential(\n",
              "  (0): WeightDropout(\n",
              "    (module): LSTM(1152, 400, batch_first=True)\n",
              "  )\n",
              "  (1): RNNDropout()\n",
              "), Sequential(\n",
              "  (0): Embedding(36536, 400, padding_idx=1)\n",
              "  (1): EmbeddingDropout(\n",
              "    (emb): Embedding(36536, 400, padding_idx=1)\n",
              "  )\n",
              "  (2): LinearDecoder(\n",
              "    (decoder): Linear(in_features=400, out_features=36536, bias=True)\n",
              "    (output_dp): RNNDropout()\n",
              "  )\n",
              ")], add_time=True, silent=False, cb_fns_registered=True)\n",
              "alpha: 2.0\n",
              "beta: 1.0], layer_groups=[Sequential(\n",
              "  (0): WeightDropout(\n",
              "    (module): LSTM(400, 1152, batch_first=True)\n",
              "  )\n",
              "  (1): RNNDropout()\n",
              "), Sequential(\n",
              "  (0): WeightDropout(\n",
              "    (module): LSTM(1152, 1152, batch_first=True)\n",
              "  )\n",
              "  (1): RNNDropout()\n",
              "), Sequential(\n",
              "  (0): WeightDropout(\n",
              "    (module): LSTM(1152, 400, batch_first=True)\n",
              "  )\n",
              "  (1): RNNDropout()\n",
              "), Sequential(\n",
              "  (0): Embedding(36536, 400, padding_idx=1)\n",
              "  (1): EmbeddingDropout(\n",
              "    (emb): Embedding(36536, 400, padding_idx=1)\n",
              "  )\n",
              "  (2): LinearDecoder(\n",
              "    (decoder): Linear(in_features=400, out_features=36536, bias=True)\n",
              "    (output_dp): RNNDropout()\n",
              "  )\n",
              ")], add_time=True, silent=False, cb_fns_registered=True)"
            ]
          },
          "metadata": {
            "tags": []
          },
          "execution_count": 26
        }
      ]
    },
    {
      "cell_type": "markdown",
      "metadata": {
        "id": "pHaWjYzBQpJ1",
        "colab_type": "text"
      },
      "source": [
        "Save the fine tuned model encoder."
      ]
    },
    {
      "cell_type": "code",
      "metadata": {
        "id": "X2PLhqhiwk9o",
        "colab_type": "code",
        "colab": {}
      },
      "source": [
        "learn.save_encoder('fine_tuned_enc')"
      ],
      "execution_count": 0,
      "outputs": []
    },
    {
      "cell_type": "markdown",
      "metadata": {
        "id": "81mM28CIQySu",
        "colab_type": "text"
      },
      "source": [
        "# **News Classification**"
      ]
    },
    {
      "cell_type": "markdown",
      "metadata": {
        "id": "ivmd7JpBQteK",
        "colab_type": "text"
      },
      "source": [
        "Create dataset for the classification task."
      ]
    },
    {
      "cell_type": "code",
      "metadata": {
        "id": "WppF3znGwtrC",
        "colab_type": "code",
        "colab": {}
      },
      "source": [
        "data_class = TextDataBunch.from_df(path, train_df = df_train, \n",
        "                                   valid_df = df_test, vocab = data_lm.vocab, \n",
        "                                   text_cols=['title','description'], label_cols=\"class\", bs=64)\n",
        "data_class.save('data_clas.pkl')"
      ],
      "execution_count": 0,
      "outputs": []
    },
    {
      "cell_type": "markdown",
      "metadata": {
        "id": "hFThDJOsQ4tH",
        "colab_type": "text"
      },
      "source": [
        "Load pickle file of the dataset"
      ]
    },
    {
      "cell_type": "code",
      "metadata": {
        "id": "ch2zcMx7xAe7",
        "colab_type": "code",
        "colab": {}
      },
      "source": [
        "data_class = load_data(path, 'data_clas.pkl', bs=64)"
      ],
      "execution_count": 0,
      "outputs": []
    },
    {
      "cell_type": "markdown",
      "metadata": {
        "id": "Vmh7a33ZQ9B3",
        "colab_type": "text"
      },
      "source": [
        "Show batch data of the dataset"
      ]
    },
    {
      "cell_type": "code",
      "metadata": {
        "id": "kN0TpYpaxHKW",
        "colab_type": "code",
        "colab": {
          "base_uri": "https://localhost:8080/",
          "height": 442
        },
        "outputId": "479c632c-7ed2-4591-f3e6-70b7a5388593"
      },
      "source": [
        "data_class.show_batch()"
      ],
      "execution_count": 31,
      "outputs": [
        {
          "output_type": "display_data",
          "data": {
            "text/html": [
              "<table border=\"1\" class=\"dataframe\">\n",
              "  <thead>\n",
              "    <tr style=\"text-align: right;\">\n",
              "      <th>text</th>\n",
              "      <th>target</th>\n",
              "    </tr>\n",
              "  </thead>\n",
              "  <tbody>\n",
              "    <tr>\n",
              "      <td>xxbos xxmaj kyoto is xxmaj dead - xxmaj long xxmaj live xxmaj pragmatism xxmaj there 's troubling news ( xxup ft subscription xxunk , alternate copy here ) coming from xxmaj japan , where the xxmaj kyoto protocol on xxmaj greenhouse xxmaj emissions was born in 1997 . xxmaj it seems that the xxmaj japanese are n't going to be able to meet their emissions targets specified in the agreement</td>\n",
              "      <td>4</td>\n",
              "    </tr>\n",
              "    <tr>\n",
              "      <td>xxbos xxup sbc switches on xxmaj microsoft in major xxup iptv deal xxmaj microsoft has turned the channel on its slow - moving television software business by winning a key contract for its new xxmaj internet - based xxup tv platform from xxup sbc xxmaj xxunk &gt; xxup advertisement &lt; / p&gt;&lt;p&gt;&lt;img src=\"http : / / ad.doubleclick.net / ad / idg.us.ifw.general / solaris;sz=1x1;ord=200301151450 ? \" width=\"1 \" height=\"1 \" border=\"0</td>\n",
              "      <td>4</td>\n",
              "    </tr>\n",
              "    <tr>\n",
              "      <td>xxbos xxmaj siebel creates cheaper , xxup smb software version xxmaj siebel xxmaj xxunk quietly introduced a version of its xxup crm ( customer relationship management ) sales software tailored for midmarket xxunk &gt; xxup advertisement &lt; / p&gt;&lt;p&gt;&lt;img src=\"http : / / ad.doubleclick.net / ad / idg.us.ifw.general / solaris;sz=1x1;ord=200301151450 ? \" width=\"1 \" height=\"1 \" border=\"0 \" / &gt; &lt; a href=\"http : / / ad.doubleclick.net / clk;12204780;10550054;n?http :</td>\n",
              "      <td>4</td>\n",
              "    </tr>\n",
              "    <tr>\n",
              "      <td>xxbos xxmaj another xxmaj four xxmaj horrible xxmaj years . \\ \\ i 'm not sure what to think about this news . i 'm still stunned . i woke up this \\ morning feeling betrayed , and shocked . \\ \\ xxmaj how could so many xxmaj americans be out of touch with reality ? xxmaj how could so many \\ xxmaj americans be so xxunk ? xxmaj how</td>\n",
              "      <td>4</td>\n",
              "    </tr>\n",
              "    <tr>\n",
              "      <td>xxbos xxmaj al xxmaj qaeda member surrenders \\ \" xxup riyadh , xxmaj saudi xxmaj arabia ( xxup cnn ) -- xxmaj one of xxmaj saudi xxmaj arabia 's most wanted militants has \\ turned himself into the authorities , the first senior suspect to surrender under \\ a one - month government amnesty announced last week . \" \\ \" xxmaj othman xxmaj al - xxmaj xxunk , number</td>\n",
              "      <td>4</td>\n",
              "    </tr>\n",
              "  </tbody>\n",
              "</table>"
            ],
            "text/plain": [
              "<IPython.core.display.HTML object>"
            ]
          },
          "metadata": {
            "tags": []
          }
        }
      ]
    },
    {
      "cell_type": "markdown",
      "metadata": {
        "id": "Vltr4XFWREk8",
        "colab_type": "text"
      },
      "source": [
        "Create learner for the classification task."
      ]
    },
    {
      "cell_type": "code",
      "metadata": {
        "id": "GKnn0pKTGqNV",
        "colab_type": "code",
        "colab": {
          "base_uri": "https://localhost:8080/",
          "height": 1000
        },
        "outputId": "30555998-9da4-4aa0-d762-e0a6a9a4cabd"
      },
      "source": [
        "learn = text_classifier_learner(data_class, AWD_LSTM, drop_mult=0.5)\n",
        "learn.load_encoder('fine_tuned_enc')"
      ],
      "execution_count": 32,
      "outputs": [
        {
          "output_type": "execute_result",
          "data": {
            "text/plain": [
              "RNNLearner(data=TextClasDataBunch;\n",
              "\n",
              "Train: LabelList (120000 items)\n",
              "x: TextList\n",
              "xxbos xxmaj wall xxmaj st. xxmaj bears xxmaj claw xxmaj back xxmaj into the xxmaj black ( xxmaj reuters ) xxmaj reuters - xxmaj short - sellers , xxmaj wall xxmaj street 's dwindling \\ band of ultra - cynics , are seeing green again .,xxbos xxmaj carlyle xxmaj looks xxmaj toward xxmaj commercial xxmaj aerospace ( xxmaj reuters ) xxmaj reuters - xxmaj private investment firm xxmaj carlyle xxmaj group , \\ which has a reputation for making well - timed and occasionally \\ controversial plays in the defense industry , has quietly placed \\ its bets on another part of the market .,xxbos xxmaj oil and xxmaj economy xxmaj cloud xxmaj stocks ' xxmaj outlook ( xxmaj reuters ) xxmaj reuters - xxmaj soaring crude prices plus worries \\ about the economy and the outlook for earnings are expected to \\ hang over the stock market next week during the depth of the \\ summer doldrums .,xxbos xxmaj iraq xxmaj halts xxmaj oil xxmaj exports from xxmaj main xxmaj southern xxmaj pipeline ( xxmaj reuters ) xxmaj reuters - xxmaj authorities have halted oil export \\ flows from the main pipeline in southern xxmaj iraq after \\ intelligence showed a rebel militia could strike \\ infrastructure , an oil official said on xxmaj saturday .,xxbos xxmaj oil prices soar to all - time record , posing new menace to xxup us economy ( xxup afp ) xxup afp - xxmaj xxunk world oil prices , toppling records and straining wallets , present a new economic menace barely three months before the xxup us presidential elections .\n",
              "y: CategoryList\n",
              "3,3,3,3,3\n",
              "Path: /root/.fastai/data/ag_news_csv;\n",
              "\n",
              "Valid: LabelList (7600 items)\n",
              "x: TextList\n",
              "xxbos xxmaj fears for t n pension after talks xxmaj unions representing workers at xxmaj turner xxmaj newall say they are ' disappointed ' after talks with stricken parent firm xxmaj federal xxmaj mogul .,xxbos xxmaj the xxmaj race is xxmaj on : xxmaj second xxmaj private xxmaj team xxmaj sets xxmaj launch xxmaj date for xxmaj human xxmaj spaceflight ( space.com ) space.com - xxup toronto , xxmaj canada -- a second \\ team of rocketeers competing for the $ 10 million xxmaj ansari x xxmaj prize , a contest for \\ privately funded suborbital space flight , has officially announced the first \\ launch date for its manned rocket .,xxbos xxmaj ky. xxmaj company xxmaj wins xxmaj grant to xxmaj study xxmaj peptides ( xxup ap ) xxup ap - a company founded by a chemistry researcher at the xxmaj university of xxmaj louisville won a grant to develop a method of producing better peptides , which are short chains of amino acids , the building blocks of proteins .,xxbos xxmaj prediction xxmaj unit xxmaj helps xxmaj forecast xxmaj wildfires ( xxup ap ) xxup ap - xxmaj it 's barely dawn when xxmaj mike xxmaj fitzpatrick starts his shift with a blur of colorful maps , figures and endless charts , but already he knows what the day will bring . xxmaj lightning will strike in places he expects . xxmaj winds will pick up , moist places will dry and flames will roar .,xxbos xxmaj calif. xxmaj aims to xxmaj limit xxmaj farm - xxmaj related xxmaj smog ( xxup ap ) xxup ap - xxmaj southern xxmaj california 's smog - fighting agency went after emissions of the bovine variety xxmaj friday , adopting the nation 's first rules to reduce air pollution from dairy cow manure .\n",
              "y: CategoryList\n",
              "3,4,4,4,4\n",
              "Path: /root/.fastai/data/ag_news_csv;\n",
              "\n",
              "Test: None, model=SequentialRNN(\n",
              "  (0): MultiBatchEncoder(\n",
              "    (module): AWD_LSTM(\n",
              "      (encoder): Embedding(36536, 400, padding_idx=1)\n",
              "      (encoder_dp): EmbeddingDropout(\n",
              "        (emb): Embedding(36536, 400, padding_idx=1)\n",
              "      )\n",
              "      (rnns): ModuleList(\n",
              "        (0): WeightDropout(\n",
              "          (module): LSTM(400, 1152, batch_first=True)\n",
              "        )\n",
              "        (1): WeightDropout(\n",
              "          (module): LSTM(1152, 1152, batch_first=True)\n",
              "        )\n",
              "        (2): WeightDropout(\n",
              "          (module): LSTM(1152, 400, batch_first=True)\n",
              "        )\n",
              "      )\n",
              "      (input_dp): RNNDropout()\n",
              "      (hidden_dps): ModuleList(\n",
              "        (0): RNNDropout()\n",
              "        (1): RNNDropout()\n",
              "        (2): RNNDropout()\n",
              "      )\n",
              "    )\n",
              "  )\n",
              "  (1): PoolingLinearClassifier(\n",
              "    (layers): Sequential(\n",
              "      (0): BatchNorm1d(1200, eps=1e-05, momentum=0.1, affine=True, track_running_stats=True)\n",
              "      (1): Dropout(p=0.2)\n",
              "      (2): Linear(in_features=1200, out_features=50, bias=True)\n",
              "      (3): ReLU(inplace)\n",
              "      (4): BatchNorm1d(50, eps=1e-05, momentum=0.1, affine=True, track_running_stats=True)\n",
              "      (5): Dropout(p=0.1)\n",
              "      (6): Linear(in_features=50, out_features=4, bias=True)\n",
              "    )\n",
              "  )\n",
              "), opt_func=functools.partial(<class 'torch.optim.adam.Adam'>, betas=(0.9, 0.99)), loss_func=FlattenedLoss of CrossEntropyLoss(), metrics=[<function accuracy at 0x7f70d903eb70>], true_wd=True, bn_wd=True, wd=0.01, train_bn=True, path=PosixPath('/root/.fastai/data/ag_news_csv'), model_dir='models', callback_fns=[functools.partial(<class 'fastai.basic_train.Recorder'>, add_time=True, silent=False)], callbacks=[RNNTrainer\n",
              "learn: RNNLearner(data=TextClasDataBunch;\n",
              "\n",
              "Train: LabelList (120000 items)\n",
              "x: TextList\n",
              "xxbos xxmaj wall xxmaj st. xxmaj bears xxmaj claw xxmaj back xxmaj into the xxmaj black ( xxmaj reuters ) xxmaj reuters - xxmaj short - sellers , xxmaj wall xxmaj street 's dwindling \\ band of ultra - cynics , are seeing green again .,xxbos xxmaj carlyle xxmaj looks xxmaj toward xxmaj commercial xxmaj aerospace ( xxmaj reuters ) xxmaj reuters - xxmaj private investment firm xxmaj carlyle xxmaj group , \\ which has a reputation for making well - timed and occasionally \\ controversial plays in the defense industry , has quietly placed \\ its bets on another part of the market .,xxbos xxmaj oil and xxmaj economy xxmaj cloud xxmaj stocks ' xxmaj outlook ( xxmaj reuters ) xxmaj reuters - xxmaj soaring crude prices plus worries \\ about the economy and the outlook for earnings are expected to \\ hang over the stock market next week during the depth of the \\ summer doldrums .,xxbos xxmaj iraq xxmaj halts xxmaj oil xxmaj exports from xxmaj main xxmaj southern xxmaj pipeline ( xxmaj reuters ) xxmaj reuters - xxmaj authorities have halted oil export \\ flows from the main pipeline in southern xxmaj iraq after \\ intelligence showed a rebel militia could strike \\ infrastructure , an oil official said on xxmaj saturday .,xxbos xxmaj oil prices soar to all - time record , posing new menace to xxup us economy ( xxup afp ) xxup afp - xxmaj xxunk world oil prices , toppling records and straining wallets , present a new economic menace barely three months before the xxup us presidential elections .\n",
              "y: CategoryList\n",
              "3,3,3,3,3\n",
              "Path: /root/.fastai/data/ag_news_csv;\n",
              "\n",
              "Valid: LabelList (7600 items)\n",
              "x: TextList\n",
              "xxbos xxmaj fears for t n pension after talks xxmaj unions representing workers at xxmaj turner xxmaj newall say they are ' disappointed ' after talks with stricken parent firm xxmaj federal xxmaj mogul .,xxbos xxmaj the xxmaj race is xxmaj on : xxmaj second xxmaj private xxmaj team xxmaj sets xxmaj launch xxmaj date for xxmaj human xxmaj spaceflight ( space.com ) space.com - xxup toronto , xxmaj canada -- a second \\ team of rocketeers competing for the $ 10 million xxmaj ansari x xxmaj prize , a contest for \\ privately funded suborbital space flight , has officially announced the first \\ launch date for its manned rocket .,xxbos xxmaj ky. xxmaj company xxmaj wins xxmaj grant to xxmaj study xxmaj peptides ( xxup ap ) xxup ap - a company founded by a chemistry researcher at the xxmaj university of xxmaj louisville won a grant to develop a method of producing better peptides , which are short chains of amino acids , the building blocks of proteins .,xxbos xxmaj prediction xxmaj unit xxmaj helps xxmaj forecast xxmaj wildfires ( xxup ap ) xxup ap - xxmaj it 's barely dawn when xxmaj mike xxmaj fitzpatrick starts his shift with a blur of colorful maps , figures and endless charts , but already he knows what the day will bring . xxmaj lightning will strike in places he expects . xxmaj winds will pick up , moist places will dry and flames will roar .,xxbos xxmaj calif. xxmaj aims to xxmaj limit xxmaj farm - xxmaj related xxmaj smog ( xxup ap ) xxup ap - xxmaj southern xxmaj california 's smog - fighting agency went after emissions of the bovine variety xxmaj friday , adopting the nation 's first rules to reduce air pollution from dairy cow manure .\n",
              "y: CategoryList\n",
              "3,4,4,4,4\n",
              "Path: /root/.fastai/data/ag_news_csv;\n",
              "\n",
              "Test: None, model=SequentialRNN(\n",
              "  (0): MultiBatchEncoder(\n",
              "    (module): AWD_LSTM(\n",
              "      (encoder): Embedding(36536, 400, padding_idx=1)\n",
              "      (encoder_dp): EmbeddingDropout(\n",
              "        (emb): Embedding(36536, 400, padding_idx=1)\n",
              "      )\n",
              "      (rnns): ModuleList(\n",
              "        (0): WeightDropout(\n",
              "          (module): LSTM(400, 1152, batch_first=True)\n",
              "        )\n",
              "        (1): WeightDropout(\n",
              "          (module): LSTM(1152, 1152, batch_first=True)\n",
              "        )\n",
              "        (2): WeightDropout(\n",
              "          (module): LSTM(1152, 400, batch_first=True)\n",
              "        )\n",
              "      )\n",
              "      (input_dp): RNNDropout()\n",
              "      (hidden_dps): ModuleList(\n",
              "        (0): RNNDropout()\n",
              "        (1): RNNDropout()\n",
              "        (2): RNNDropout()\n",
              "      )\n",
              "    )\n",
              "  )\n",
              "  (1): PoolingLinearClassifier(\n",
              "    (layers): Sequential(\n",
              "      (0): BatchNorm1d(1200, eps=1e-05, momentum=0.1, affine=True, track_running_stats=True)\n",
              "      (1): Dropout(p=0.2)\n",
              "      (2): Linear(in_features=1200, out_features=50, bias=True)\n",
              "      (3): ReLU(inplace)\n",
              "      (4): BatchNorm1d(50, eps=1e-05, momentum=0.1, affine=True, track_running_stats=True)\n",
              "      (5): Dropout(p=0.1)\n",
              "      (6): Linear(in_features=50, out_features=4, bias=True)\n",
              "    )\n",
              "  )\n",
              "), opt_func=functools.partial(<class 'torch.optim.adam.Adam'>, betas=(0.9, 0.99)), loss_func=FlattenedLoss of CrossEntropyLoss(), metrics=[<function accuracy at 0x7f70d903eb70>], true_wd=True, bn_wd=True, wd=0.01, train_bn=True, path=PosixPath('/root/.fastai/data/ag_news_csv'), model_dir='models', callback_fns=[functools.partial(<class 'fastai.basic_train.Recorder'>, add_time=True, silent=False)], callbacks=[...], layer_groups=[Sequential(\n",
              "  (0): Embedding(36536, 400, padding_idx=1)\n",
              "  (1): EmbeddingDropout(\n",
              "    (emb): Embedding(36536, 400, padding_idx=1)\n",
              "  )\n",
              "), Sequential(\n",
              "  (0): WeightDropout(\n",
              "    (module): LSTM(400, 1152, batch_first=True)\n",
              "  )\n",
              "  (1): RNNDropout()\n",
              "), Sequential(\n",
              "  (0): WeightDropout(\n",
              "    (module): LSTM(1152, 1152, batch_first=True)\n",
              "  )\n",
              "  (1): RNNDropout()\n",
              "), Sequential(\n",
              "  (0): WeightDropout(\n",
              "    (module): LSTM(1152, 400, batch_first=True)\n",
              "  )\n",
              "  (1): RNNDropout()\n",
              "), Sequential(\n",
              "  (0): PoolingLinearClassifier(\n",
              "    (layers): Sequential(\n",
              "      (0): BatchNorm1d(1200, eps=1e-05, momentum=0.1, affine=True, track_running_stats=True)\n",
              "      (1): Dropout(p=0.2)\n",
              "      (2): Linear(in_features=1200, out_features=50, bias=True)\n",
              "      (3): ReLU(inplace)\n",
              "      (4): BatchNorm1d(50, eps=1e-05, momentum=0.1, affine=True, track_running_stats=True)\n",
              "      (5): Dropout(p=0.1)\n",
              "      (6): Linear(in_features=50, out_features=4, bias=True)\n",
              "    )\n",
              "  )\n",
              ")], add_time=True, silent=False, cb_fns_registered=False)\n",
              "alpha: 2.0\n",
              "beta: 1.0], layer_groups=[Sequential(\n",
              "  (0): Embedding(36536, 400, padding_idx=1)\n",
              "  (1): EmbeddingDropout(\n",
              "    (emb): Embedding(36536, 400, padding_idx=1)\n",
              "  )\n",
              "), Sequential(\n",
              "  (0): WeightDropout(\n",
              "    (module): LSTM(400, 1152, batch_first=True)\n",
              "  )\n",
              "  (1): RNNDropout()\n",
              "), Sequential(\n",
              "  (0): WeightDropout(\n",
              "    (module): LSTM(1152, 1152, batch_first=True)\n",
              "  )\n",
              "  (1): RNNDropout()\n",
              "), Sequential(\n",
              "  (0): WeightDropout(\n",
              "    (module): LSTM(1152, 400, batch_first=True)\n",
              "  )\n",
              "  (1): RNNDropout()\n",
              "), Sequential(\n",
              "  (0): PoolingLinearClassifier(\n",
              "    (layers): Sequential(\n",
              "      (0): BatchNorm1d(1200, eps=1e-05, momentum=0.1, affine=True, track_running_stats=True)\n",
              "      (1): Dropout(p=0.2)\n",
              "      (2): Linear(in_features=1200, out_features=50, bias=True)\n",
              "      (3): ReLU(inplace)\n",
              "      (4): BatchNorm1d(50, eps=1e-05, momentum=0.1, affine=True, track_running_stats=True)\n",
              "      (5): Dropout(p=0.1)\n",
              "      (6): Linear(in_features=50, out_features=4, bias=True)\n",
              "    )\n",
              "  )\n",
              ")], add_time=True, silent=False, cb_fns_registered=False)"
            ]
          },
          "metadata": {
            "tags": []
          },
          "execution_count": 32
        }
      ]
    },
    {
      "cell_type": "markdown",
      "metadata": {
        "id": "OO0au9plRJqu",
        "colab_type": "text"
      },
      "source": [
        "Find optimum learning rate"
      ]
    },
    {
      "cell_type": "code",
      "metadata": {
        "id": "S1qbBSoAGwar",
        "colab_type": "code",
        "colab": {
          "base_uri": "https://localhost:8080/",
          "height": 34
        },
        "outputId": "5bc4b33c-63e3-47f0-ce13-a2df805c194e"
      },
      "source": [
        "learn.lr_find()"
      ],
      "execution_count": 33,
      "outputs": [
        {
          "output_type": "display_data",
          "data": {
            "text/html": [
              ""
            ],
            "text/plain": [
              "<IPython.core.display.HTML object>"
            ]
          },
          "metadata": {
            "tags": []
          }
        },
        {
          "output_type": "stream",
          "text": [
            "LR Finder is complete, type {learner_name}.recorder.plot() to see the graph.\n"
          ],
          "name": "stdout"
        }
      ]
    },
    {
      "cell_type": "markdown",
      "metadata": {
        "id": "JMYQPnwzRNJ7",
        "colab_type": "text"
      },
      "source": [
        "Obtain learning rates from the recorder plot."
      ]
    },
    {
      "cell_type": "code",
      "metadata": {
        "id": "xR2BVoYkGzEA",
        "colab_type": "code",
        "colab": {
          "base_uri": "https://localhost:8080/",
          "height": 283
        },
        "outputId": "d5d93a6d-02af-4734-c754-6d60757974ce"
      },
      "source": [
        "learn.recorder.plot()"
      ],
      "execution_count": 34,
      "outputs": [
        {
          "output_type": "display_data",
          "data": {
            "image/png": "[encoded data removed]",
            "text/plain": [
              "<Figure size 432x288 with 1 Axes>"
            ]
          },
          "metadata": {
            "tags": []
          }
        }
      ]
    },
    {
      "cell_type": "markdown",
      "metadata": {
        "id": "nydJMwYiRU4T",
        "colab_type": "text"
      },
      "source": [
        "Train the model for one cycle and one epoch."
      ]
    },
    {
      "cell_type": "code",
      "metadata": {
        "id": "NhDVM_k4G1eF",
        "colab_type": "code",
        "colab": {
          "base_uri": "https://localhost:8080/",
          "height": 80
        },
        "outputId": "e7e45a25-7704-44d2-9128-51be4928327d"
      },
      "source": [
        "learn.fit_one_cycle(1, 2e-2, moms=(0.8,0.7))"
      ],
      "execution_count": 35,
      "outputs": [
        {
          "output_type": "display_data",
          "data": {
            "text/html": [
              "<table border=\"1\" class=\"dataframe\">\n",
              "  <thead>\n",
              "    <tr style=\"text-align: left;\">\n",
              "      <th>epoch</th>\n",
              "      <th>train_loss</th>\n",
              "      <th>valid_loss</th>\n",
              "      <th>accuracy</th>\n",
              "      <th>time</th>\n",
              "    </tr>\n",
              "  </thead>\n",
              "  <tbody>\n",
              "    <tr>\n",
              "      <td>0</td>\n",
              "      <td>0.339502</td>\n",
              "      <td>0.259225</td>\n",
              "      <td>0.911842</td>\n",
              "      <td>04:08</td>\n",
              "    </tr>\n",
              "  </tbody>\n",
              "</table>"
            ],
            "text/plain": [
              "<IPython.core.display.HTML object>"
            ]
          },
          "metadata": {
            "tags": []
          }
        }
      ]
    },
    {
      "cell_type": "markdown",
      "metadata": {
        "id": "Zzl_FqBKRZfo",
        "colab_type": "text"
      },
      "source": [
        "Save the first model trained."
      ]
    },
    {
      "cell_type": "code",
      "metadata": {
        "id": "TfXThNoaG6A8",
        "colab_type": "code",
        "colab": {}
      },
      "source": [
        "learn.save('first')"
      ],
      "execution_count": 0,
      "outputs": []
    },
    {
      "cell_type": "markdown",
      "metadata": {
        "id": "q0vCanVlRcdN",
        "colab_type": "text"
      },
      "source": [
        "Load the first model."
      ]
    },
    {
      "cell_type": "code",
      "metadata": {
        "id": "cNFX-CcAG8bi",
        "colab_type": "code",
        "colab": {
          "base_uri": "https://localhost:8080/",
          "height": 1000
        },
        "outputId": "72987eee-31c9-46e9-8c95-b95994248b7f"
      },
      "source": [
        "learn.load('first')"
      ],
      "execution_count": 37,
      "outputs": [
        {
          "output_type": "execute_result",
          "data": {
            "text/plain": [
              "RNNLearner(data=TextClasDataBunch;\n",
              "\n",
              "Train: LabelList (120000 items)\n",
              "x: TextList\n",
              "xxbos xxmaj wall xxmaj st. xxmaj bears xxmaj claw xxmaj back xxmaj into the xxmaj black ( xxmaj reuters ) xxmaj reuters - xxmaj short - sellers , xxmaj wall xxmaj street 's dwindling \\ band of ultra - cynics , are seeing green again .,xxbos xxmaj carlyle xxmaj looks xxmaj toward xxmaj commercial xxmaj aerospace ( xxmaj reuters ) xxmaj reuters - xxmaj private investment firm xxmaj carlyle xxmaj group , \\ which has a reputation for making well - timed and occasionally \\ controversial plays in the defense industry , has quietly placed \\ its bets on another part of the market .,xxbos xxmaj oil and xxmaj economy xxmaj cloud xxmaj stocks ' xxmaj outlook ( xxmaj reuters ) xxmaj reuters - xxmaj soaring crude prices plus worries \\ about the economy and the outlook for earnings are expected to \\ hang over the stock market next week during the depth of the \\ summer doldrums .,xxbos xxmaj iraq xxmaj halts xxmaj oil xxmaj exports from xxmaj main xxmaj southern xxmaj pipeline ( xxmaj reuters ) xxmaj reuters - xxmaj authorities have halted oil export \\ flows from the main pipeline in southern xxmaj iraq after \\ intelligence showed a rebel militia could strike \\ infrastructure , an oil official said on xxmaj saturday .,xxbos xxmaj oil prices soar to all - time record , posing new menace to xxup us economy ( xxup afp ) xxup afp - xxmaj xxunk world oil prices , toppling records and straining wallets , present a new economic menace barely three months before the xxup us presidential elections .\n",
              "y: CategoryList\n",
              "3,3,3,3,3\n",
              "Path: /root/.fastai/data/ag_news_csv;\n",
              "\n",
              "Valid: LabelList (7600 items)\n",
              "x: TextList\n",
              "xxbos xxmaj fears for t n pension after talks xxmaj unions representing workers at xxmaj turner xxmaj newall say they are ' disappointed ' after talks with stricken parent firm xxmaj federal xxmaj mogul .,xxbos xxmaj the xxmaj race is xxmaj on : xxmaj second xxmaj private xxmaj team xxmaj sets xxmaj launch xxmaj date for xxmaj human xxmaj spaceflight ( space.com ) space.com - xxup toronto , xxmaj canada -- a second \\ team of rocketeers competing for the $ 10 million xxmaj ansari x xxmaj prize , a contest for \\ privately funded suborbital space flight , has officially announced the first \\ launch date for its manned rocket .,xxbos xxmaj ky. xxmaj company xxmaj wins xxmaj grant to xxmaj study xxmaj peptides ( xxup ap ) xxup ap - a company founded by a chemistry researcher at the xxmaj university of xxmaj louisville won a grant to develop a method of producing better peptides , which are short chains of amino acids , the building blocks of proteins .,xxbos xxmaj prediction xxmaj unit xxmaj helps xxmaj forecast xxmaj wildfires ( xxup ap ) xxup ap - xxmaj it 's barely dawn when xxmaj mike xxmaj fitzpatrick starts his shift with a blur of colorful maps , figures and endless charts , but already he knows what the day will bring . xxmaj lightning will strike in places he expects . xxmaj winds will pick up , moist places will dry and flames will roar .,xxbos xxmaj calif. xxmaj aims to xxmaj limit xxmaj farm - xxmaj related xxmaj smog ( xxup ap ) xxup ap - xxmaj southern xxmaj california 's smog - fighting agency went after emissions of the bovine variety xxmaj friday , adopting the nation 's first rules to reduce air pollution from dairy cow manure .\n",
              "y: CategoryList\n",
              "3,4,4,4,4\n",
              "Path: /root/.fastai/data/ag_news_csv;\n",
              "\n",
              "Test: None, model=SequentialRNN(\n",
              "  (0): MultiBatchEncoder(\n",
              "    (module): AWD_LSTM(\n",
              "      (encoder): Embedding(36536, 400, padding_idx=1)\n",
              "      (encoder_dp): EmbeddingDropout(\n",
              "        (emb): Embedding(36536, 400, padding_idx=1)\n",
              "      )\n",
              "      (rnns): ModuleList(\n",
              "        (0): WeightDropout(\n",
              "          (module): LSTM(400, 1152, batch_first=True)\n",
              "        )\n",
              "        (1): WeightDropout(\n",
              "          (module): LSTM(1152, 1152, batch_first=True)\n",
              "        )\n",
              "        (2): WeightDropout(\n",
              "          (module): LSTM(1152, 400, batch_first=True)\n",
              "        )\n",
              "      )\n",
              "      (input_dp): RNNDropout()\n",
              "      (hidden_dps): ModuleList(\n",
              "        (0): RNNDropout()\n",
              "        (1): RNNDropout()\n",
              "        (2): RNNDropout()\n",
              "      )\n",
              "    )\n",
              "  )\n",
              "  (1): PoolingLinearClassifier(\n",
              "    (layers): Sequential(\n",
              "      (0): BatchNorm1d(1200, eps=1e-05, momentum=0.1, affine=True, track_running_stats=True)\n",
              "      (1): Dropout(p=0.2)\n",
              "      (2): Linear(in_features=1200, out_features=50, bias=True)\n",
              "      (3): ReLU(inplace)\n",
              "      (4): BatchNorm1d(50, eps=1e-05, momentum=0.1, affine=True, track_running_stats=True)\n",
              "      (5): Dropout(p=0.1)\n",
              "      (6): Linear(in_features=50, out_features=4, bias=True)\n",
              "    )\n",
              "  )\n",
              "), opt_func=functools.partial(<class 'torch.optim.adam.Adam'>, betas=(0.9, 0.99)), loss_func=FlattenedLoss of CrossEntropyLoss(), metrics=[<function accuracy at 0x7f70d903eb70>], true_wd=True, bn_wd=True, wd=0.01, train_bn=True, path=PosixPath('/root/.fastai/data/ag_news_csv'), model_dir='models', callback_fns=[functools.partial(<class 'fastai.basic_train.Recorder'>, add_time=True, silent=False)], callbacks=[RNNTrainer\n",
              "learn: RNNLearner(data=TextClasDataBunch;\n",
              "\n",
              "Train: LabelList (120000 items)\n",
              "x: TextList\n",
              "xxbos xxmaj wall xxmaj st. xxmaj bears xxmaj claw xxmaj back xxmaj into the xxmaj black ( xxmaj reuters ) xxmaj reuters - xxmaj short - sellers , xxmaj wall xxmaj street 's dwindling \\ band of ultra - cynics , are seeing green again .,xxbos xxmaj carlyle xxmaj looks xxmaj toward xxmaj commercial xxmaj aerospace ( xxmaj reuters ) xxmaj reuters - xxmaj private investment firm xxmaj carlyle xxmaj group , \\ which has a reputation for making well - timed and occasionally \\ controversial plays in the defense industry , has quietly placed \\ its bets on another part of the market .,xxbos xxmaj oil and xxmaj economy xxmaj cloud xxmaj stocks ' xxmaj outlook ( xxmaj reuters ) xxmaj reuters - xxmaj soaring crude prices plus worries \\ about the economy and the outlook for earnings are expected to \\ hang over the stock market next week during the depth of the \\ summer doldrums .,xxbos xxmaj iraq xxmaj halts xxmaj oil xxmaj exports from xxmaj main xxmaj southern xxmaj pipeline ( xxmaj reuters ) xxmaj reuters - xxmaj authorities have halted oil export \\ flows from the main pipeline in southern xxmaj iraq after \\ intelligence showed a rebel militia could strike \\ infrastructure , an oil official said on xxmaj saturday .,xxbos xxmaj oil prices soar to all - time record , posing new menace to xxup us economy ( xxup afp ) xxup afp - xxmaj xxunk world oil prices , toppling records and straining wallets , present a new economic menace barely three months before the xxup us presidential elections .\n",
              "y: CategoryList\n",
              "3,3,3,3,3\n",
              "Path: /root/.fastai/data/ag_news_csv;\n",
              "\n",
              "Valid: LabelList (7600 items)\n",
              "x: TextList\n",
              "xxbos xxmaj fears for t n pension after talks xxmaj unions representing workers at xxmaj turner xxmaj newall say they are ' disappointed ' after talks with stricken parent firm xxmaj federal xxmaj mogul .,xxbos xxmaj the xxmaj race is xxmaj on : xxmaj second xxmaj private xxmaj team xxmaj sets xxmaj launch xxmaj date for xxmaj human xxmaj spaceflight ( space.com ) space.com - xxup toronto , xxmaj canada -- a second \\ team of rocketeers competing for the $ 10 million xxmaj ansari x xxmaj prize , a contest for \\ privately funded suborbital space flight , has officially announced the first \\ launch date for its manned rocket .,xxbos xxmaj ky. xxmaj company xxmaj wins xxmaj grant to xxmaj study xxmaj peptides ( xxup ap ) xxup ap - a company founded by a chemistry researcher at the xxmaj university of xxmaj louisville won a grant to develop a method of producing better peptides , which are short chains of amino acids , the building blocks of proteins .,xxbos xxmaj prediction xxmaj unit xxmaj helps xxmaj forecast xxmaj wildfires ( xxup ap ) xxup ap - xxmaj it 's barely dawn when xxmaj mike xxmaj fitzpatrick starts his shift with a blur of colorful maps , figures and endless charts , but already he knows what the day will bring . xxmaj lightning will strike in places he expects . xxmaj winds will pick up , moist places will dry and flames will roar .,xxbos xxmaj calif. xxmaj aims to xxmaj limit xxmaj farm - xxmaj related xxmaj smog ( xxup ap ) xxup ap - xxmaj southern xxmaj california 's smog - fighting agency went after emissions of the bovine variety xxmaj friday , adopting the nation 's first rules to reduce air pollution from dairy cow manure .\n",
              "y: CategoryList\n",
              "3,4,4,4,4\n",
              "Path: /root/.fastai/data/ag_news_csv;\n",
              "\n",
              "Test: None, model=SequentialRNN(\n",
              "  (0): MultiBatchEncoder(\n",
              "    (module): AWD_LSTM(\n",
              "      (encoder): Embedding(36536, 400, padding_idx=1)\n",
              "      (encoder_dp): EmbeddingDropout(\n",
              "        (emb): Embedding(36536, 400, padding_idx=1)\n",
              "      )\n",
              "      (rnns): ModuleList(\n",
              "        (0): WeightDropout(\n",
              "          (module): LSTM(400, 1152, batch_first=True)\n",
              "        )\n",
              "        (1): WeightDropout(\n",
              "          (module): LSTM(1152, 1152, batch_first=True)\n",
              "        )\n",
              "        (2): WeightDropout(\n",
              "          (module): LSTM(1152, 400, batch_first=True)\n",
              "        )\n",
              "      )\n",
              "      (input_dp): RNNDropout()\n",
              "      (hidden_dps): ModuleList(\n",
              "        (0): RNNDropout()\n",
              "        (1): RNNDropout()\n",
              "        (2): RNNDropout()\n",
              "      )\n",
              "    )\n",
              "  )\n",
              "  (1): PoolingLinearClassifier(\n",
              "    (layers): Sequential(\n",
              "      (0): BatchNorm1d(1200, eps=1e-05, momentum=0.1, affine=True, track_running_stats=True)\n",
              "      (1): Dropout(p=0.2)\n",
              "      (2): Linear(in_features=1200, out_features=50, bias=True)\n",
              "      (3): ReLU(inplace)\n",
              "      (4): BatchNorm1d(50, eps=1e-05, momentum=0.1, affine=True, track_running_stats=True)\n",
              "      (5): Dropout(p=0.1)\n",
              "      (6): Linear(in_features=50, out_features=4, bias=True)\n",
              "    )\n",
              "  )\n",
              "), opt_func=functools.partial(<class 'torch.optim.adam.Adam'>, betas=(0.9, 0.99)), loss_func=FlattenedLoss of CrossEntropyLoss(), metrics=[<function accuracy at 0x7f70d903eb70>], true_wd=True, bn_wd=True, wd=0.01, train_bn=True, path=PosixPath('/root/.fastai/data/ag_news_csv'), model_dir='models', callback_fns=[functools.partial(<class 'fastai.basic_train.Recorder'>, add_time=True, silent=False)], callbacks=[...], layer_groups=[Sequential(\n",
              "  (0): Embedding(36536, 400, padding_idx=1)\n",
              "  (1): EmbeddingDropout(\n",
              "    (emb): Embedding(36536, 400, padding_idx=1)\n",
              "  )\n",
              "), Sequential(\n",
              "  (0): WeightDropout(\n",
              "    (module): LSTM(400, 1152, batch_first=True)\n",
              "  )\n",
              "  (1): RNNDropout()\n",
              "), Sequential(\n",
              "  (0): WeightDropout(\n",
              "    (module): LSTM(1152, 1152, batch_first=True)\n",
              "  )\n",
              "  (1): RNNDropout()\n",
              "), Sequential(\n",
              "  (0): WeightDropout(\n",
              "    (module): LSTM(1152, 400, batch_first=True)\n",
              "  )\n",
              "  (1): RNNDropout()\n",
              "), Sequential(\n",
              "  (0): PoolingLinearClassifier(\n",
              "    (layers): Sequential(\n",
              "      (0): BatchNorm1d(1200, eps=1e-05, momentum=0.1, affine=True, track_running_stats=True)\n",
              "      (1): Dropout(p=0.2)\n",
              "      (2): Linear(in_features=1200, out_features=50, bias=True)\n",
              "      (3): ReLU(inplace)\n",
              "      (4): BatchNorm1d(50, eps=1e-05, momentum=0.1, affine=True, track_running_stats=True)\n",
              "      (5): Dropout(p=0.1)\n",
              "      (6): Linear(in_features=50, out_features=4, bias=True)\n",
              "    )\n",
              "  )\n",
              ")], add_time=True, silent=False, cb_fns_registered=True)\n",
              "alpha: 2.0\n",
              "beta: 1.0], layer_groups=[Sequential(\n",
              "  (0): Embedding(36536, 400, padding_idx=1)\n",
              "  (1): EmbeddingDropout(\n",
              "    (emb): Embedding(36536, 400, padding_idx=1)\n",
              "  )\n",
              "), Sequential(\n",
              "  (0): WeightDropout(\n",
              "    (module): LSTM(400, 1152, batch_first=True)\n",
              "  )\n",
              "  (1): RNNDropout()\n",
              "), Sequential(\n",
              "  (0): WeightDropout(\n",
              "    (module): LSTM(1152, 1152, batch_first=True)\n",
              "  )\n",
              "  (1): RNNDropout()\n",
              "), Sequential(\n",
              "  (0): WeightDropout(\n",
              "    (module): LSTM(1152, 400, batch_first=True)\n",
              "  )\n",
              "  (1): RNNDropout()\n",
              "), Sequential(\n",
              "  (0): PoolingLinearClassifier(\n",
              "    (layers): Sequential(\n",
              "      (0): BatchNorm1d(1200, eps=1e-05, momentum=0.1, affine=True, track_running_stats=True)\n",
              "      (1): Dropout(p=0.2)\n",
              "      (2): Linear(in_features=1200, out_features=50, bias=True)\n",
              "      (3): ReLU(inplace)\n",
              "      (4): BatchNorm1d(50, eps=1e-05, momentum=0.1, affine=True, track_running_stats=True)\n",
              "      (5): Dropout(p=0.1)\n",
              "      (6): Linear(in_features=50, out_features=4, bias=True)\n",
              "    )\n",
              "  )\n",
              ")], add_time=True, silent=False, cb_fns_registered=True)"
            ]
          },
          "metadata": {
            "tags": []
          },
          "execution_count": 37
        }
      ]
    },
    {
      "cell_type": "markdown",
      "metadata": {
        "id": "7Ybt0a3dRimx",
        "colab_type": "text"
      },
      "source": [
        "Freeze till -2 layer and train the model."
      ]
    },
    {
      "cell_type": "code",
      "metadata": {
        "id": "SkqDDpjbG9gr",
        "colab_type": "code",
        "colab": {
          "base_uri": "https://localhost:8080/",
          "height": 80
        },
        "outputId": "686426d3-1544-4e28-c80a-7beabb741798"
      },
      "source": [
        "learn.freeze_to(-2)\n",
        "learn.fit_one_cycle(1, slice(1e-2/(2.6**4),1e-2), moms=(0.8,0.7))"
      ],
      "execution_count": 38,
      "outputs": [
        {
          "output_type": "display_data",
          "data": {
            "text/html": [
              "<table border=\"1\" class=\"dataframe\">\n",
              "  <thead>\n",
              "    <tr style=\"text-align: left;\">\n",
              "      <th>epoch</th>\n",
              "      <th>train_loss</th>\n",
              "      <th>valid_loss</th>\n",
              "      <th>accuracy</th>\n",
              "      <th>time</th>\n",
              "    </tr>\n",
              "  </thead>\n",
              "  <tbody>\n",
              "    <tr>\n",
              "      <td>0</td>\n",
              "      <td>0.257593</td>\n",
              "      <td>0.201070</td>\n",
              "      <td>0.929605</td>\n",
              "      <td>04:59</td>\n",
              "    </tr>\n",
              "  </tbody>\n",
              "</table>"
            ],
            "text/plain": [
              "<IPython.core.display.HTML object>"
            ]
          },
          "metadata": {
            "tags": []
          }
        }
      ]
    },
    {
      "cell_type": "markdown",
      "metadata": {
        "id": "DBEub98vRoya",
        "colab_type": "text"
      },
      "source": [
        "Save the second model trained above."
      ]
    },
    {
      "cell_type": "code",
      "metadata": {
        "id": "WhBAdJSwHPXy",
        "colab_type": "code",
        "colab": {}
      },
      "source": [
        "learn.save('second')"
      ],
      "execution_count": 0,
      "outputs": []
    },
    {
      "cell_type": "markdown",
      "metadata": {
        "id": "rhK8tFMlRsod",
        "colab_type": "text"
      },
      "source": [
        "Load the second model trained."
      ]
    },
    {
      "cell_type": "code",
      "metadata": {
        "id": "bieaPAYpHam6",
        "colab_type": "code",
        "colab": {}
      },
      "source": [
        "learn.load('second');"
      ],
      "execution_count": 0,
      "outputs": []
    },
    {
      "cell_type": "markdown",
      "metadata": {
        "id": "T9Fi9ZQnR0Ui",
        "colab_type": "text"
      },
      "source": [
        "Freeze till -3 layer and train the model."
      ]
    },
    {
      "cell_type": "code",
      "metadata": {
        "id": "9qqL7EupHo1b",
        "colab_type": "code",
        "colab": {
          "base_uri": "https://localhost:8080/",
          "height": 80
        },
        "outputId": "f0c5e7f3-42f1-46e0-9a60-51921ba4d464"
      },
      "source": [
        "learn.freeze_to(-3)\n",
        "learn.fit_one_cycle(1, slice(5e-3/(2.6**4),5e-3), moms=(0.8,0.7))"
      ],
      "execution_count": 41,
      "outputs": [
        {
          "output_type": "display_data",
          "data": {
            "text/html": [
              "<table border=\"1\" class=\"dataframe\">\n",
              "  <thead>\n",
              "    <tr style=\"text-align: left;\">\n",
              "      <th>epoch</th>\n",
              "      <th>train_loss</th>\n",
              "      <th>valid_loss</th>\n",
              "      <th>accuracy</th>\n",
              "      <th>time</th>\n",
              "    </tr>\n",
              "  </thead>\n",
              "  <tbody>\n",
              "    <tr>\n",
              "      <td>0</td>\n",
              "      <td>0.213640</td>\n",
              "      <td>0.179747</td>\n",
              "      <td>0.938947</td>\n",
              "      <td>08:17</td>\n",
              "    </tr>\n",
              "  </tbody>\n",
              "</table>"
            ],
            "text/plain": [
              "<IPython.core.display.HTML object>"
            ]
          },
          "metadata": {
            "tags": []
          }
        }
      ]
    },
    {
      "cell_type": "markdown",
      "metadata": {
        "id": "PPxo6G7yR8V6",
        "colab_type": "text"
      },
      "source": [
        "Save the third model."
      ]
    },
    {
      "cell_type": "code",
      "metadata": {
        "id": "c9K6qjUpHsTa",
        "colab_type": "code",
        "colab": {}
      },
      "source": [
        "learn.save('third')"
      ],
      "execution_count": 0,
      "outputs": []
    },
    {
      "cell_type": "markdown",
      "metadata": {
        "id": "oadhARr1SEWe",
        "colab_type": "text"
      },
      "source": [
        "Load the third model."
      ]
    },
    {
      "cell_type": "code",
      "metadata": {
        "id": "8GxeRzhbHte2",
        "colab_type": "code",
        "colab": {
          "base_uri": "https://localhost:8080/",
          "height": 1000
        },
        "outputId": "a4c6a1de-81a9-4a47-db9c-c30fec7f1d30"
      },
      "source": [
        "learn.load('third')"
      ],
      "execution_count": 43,
      "outputs": [
        {
          "output_type": "execute_result",
          "data": {
            "text/plain": [
              "RNNLearner(data=TextClasDataBunch;\n",
              "\n",
              "Train: LabelList (120000 items)\n",
              "x: TextList\n",
              "xxbos xxmaj wall xxmaj st. xxmaj bears xxmaj claw xxmaj back xxmaj into the xxmaj black ( xxmaj reuters ) xxmaj reuters - xxmaj short - sellers , xxmaj wall xxmaj street 's dwindling \\ band of ultra - cynics , are seeing green again .,xxbos xxmaj carlyle xxmaj looks xxmaj toward xxmaj commercial xxmaj aerospace ( xxmaj reuters ) xxmaj reuters - xxmaj private investment firm xxmaj carlyle xxmaj group , \\ which has a reputation for making well - timed and occasionally \\ controversial plays in the defense industry , has quietly placed \\ its bets on another part of the market .,xxbos xxmaj oil and xxmaj economy xxmaj cloud xxmaj stocks ' xxmaj outlook ( xxmaj reuters ) xxmaj reuters - xxmaj soaring crude prices plus worries \\ about the economy and the outlook for earnings are expected to \\ hang over the stock market next week during the depth of the \\ summer doldrums .,xxbos xxmaj iraq xxmaj halts xxmaj oil xxmaj exports from xxmaj main xxmaj southern xxmaj pipeline ( xxmaj reuters ) xxmaj reuters - xxmaj authorities have halted oil export \\ flows from the main pipeline in southern xxmaj iraq after \\ intelligence showed a rebel militia could strike \\ infrastructure , an oil official said on xxmaj saturday .,xxbos xxmaj oil prices soar to all - time record , posing new menace to xxup us economy ( xxup afp ) xxup afp - xxmaj xxunk world oil prices , toppling records and straining wallets , present a new economic menace barely three months before the xxup us presidential elections .\n",
              "y: CategoryList\n",
              "3,3,3,3,3\n",
              "Path: /root/.fastai/data/ag_news_csv;\n",
              "\n",
              "Valid: LabelList (7600 items)\n",
              "x: TextList\n",
              "xxbos xxmaj fears for t n pension after talks xxmaj unions representing workers at xxmaj turner xxmaj newall say they are ' disappointed ' after talks with stricken parent firm xxmaj federal xxmaj mogul .,xxbos xxmaj the xxmaj race is xxmaj on : xxmaj second xxmaj private xxmaj team xxmaj sets xxmaj launch xxmaj date for xxmaj human xxmaj spaceflight ( space.com ) space.com - xxup toronto , xxmaj canada -- a second \\ team of rocketeers competing for the $ 10 million xxmaj ansari x xxmaj prize , a contest for \\ privately funded suborbital space flight , has officially announced the first \\ launch date for its manned rocket .,xxbos xxmaj ky. xxmaj company xxmaj wins xxmaj grant to xxmaj study xxmaj peptides ( xxup ap ) xxup ap - a company founded by a chemistry researcher at the xxmaj university of xxmaj louisville won a grant to develop a method of producing better peptides , which are short chains of amino acids , the building blocks of proteins .,xxbos xxmaj prediction xxmaj unit xxmaj helps xxmaj forecast xxmaj wildfires ( xxup ap ) xxup ap - xxmaj it 's barely dawn when xxmaj mike xxmaj fitzpatrick starts his shift with a blur of colorful maps , figures and endless charts , but already he knows what the day will bring . xxmaj lightning will strike in places he expects . xxmaj winds will pick up , moist places will dry and flames will roar .,xxbos xxmaj calif. xxmaj aims to xxmaj limit xxmaj farm - xxmaj related xxmaj smog ( xxup ap ) xxup ap - xxmaj southern xxmaj california 's smog - fighting agency went after emissions of the bovine variety xxmaj friday , adopting the nation 's first rules to reduce air pollution from dairy cow manure .\n",
              "y: CategoryList\n",
              "3,4,4,4,4\n",
              "Path: /root/.fastai/data/ag_news_csv;\n",
              "\n",
              "Test: None, model=SequentialRNN(\n",
              "  (0): MultiBatchEncoder(\n",
              "    (module): AWD_LSTM(\n",
              "      (encoder): Embedding(36536, 400, padding_idx=1)\n",
              "      (encoder_dp): EmbeddingDropout(\n",
              "        (emb): Embedding(36536, 400, padding_idx=1)\n",
              "      )\n",
              "      (rnns): ModuleList(\n",
              "        (0): WeightDropout(\n",
              "          (module): LSTM(400, 1152, batch_first=True)\n",
              "        )\n",
              "        (1): WeightDropout(\n",
              "          (module): LSTM(1152, 1152, batch_first=True)\n",
              "        )\n",
              "        (2): WeightDropout(\n",
              "          (module): LSTM(1152, 400, batch_first=True)\n",
              "        )\n",
              "      )\n",
              "      (input_dp): RNNDropout()\n",
              "      (hidden_dps): ModuleList(\n",
              "        (0): RNNDropout()\n",
              "        (1): RNNDropout()\n",
              "        (2): RNNDropout()\n",
              "      )\n",
              "    )\n",
              "  )\n",
              "  (1): PoolingLinearClassifier(\n",
              "    (layers): Sequential(\n",
              "      (0): BatchNorm1d(1200, eps=1e-05, momentum=0.1, affine=True, track_running_stats=True)\n",
              "      (1): Dropout(p=0.2)\n",
              "      (2): Linear(in_features=1200, out_features=50, bias=True)\n",
              "      (3): ReLU(inplace)\n",
              "      (4): BatchNorm1d(50, eps=1e-05, momentum=0.1, affine=True, track_running_stats=True)\n",
              "      (5): Dropout(p=0.1)\n",
              "      (6): Linear(in_features=50, out_features=4, bias=True)\n",
              "    )\n",
              "  )\n",
              "), opt_func=functools.partial(<class 'torch.optim.adam.Adam'>, betas=(0.9, 0.99)), loss_func=FlattenedLoss of CrossEntropyLoss(), metrics=[<function accuracy at 0x7f70d903eb70>], true_wd=True, bn_wd=True, wd=0.01, train_bn=True, path=PosixPath('/root/.fastai/data/ag_news_csv'), model_dir='models', callback_fns=[functools.partial(<class 'fastai.basic_train.Recorder'>, add_time=True, silent=False)], callbacks=[RNNTrainer\n",
              "learn: RNNLearner(data=TextClasDataBunch;\n",
              "\n",
              "Train: LabelList (120000 items)\n",
              "x: TextList\n",
              "xxbos xxmaj wall xxmaj st. xxmaj bears xxmaj claw xxmaj back xxmaj into the xxmaj black ( xxmaj reuters ) xxmaj reuters - xxmaj short - sellers , xxmaj wall xxmaj street 's dwindling \\ band of ultra - cynics , are seeing green again .,xxbos xxmaj carlyle xxmaj looks xxmaj toward xxmaj commercial xxmaj aerospace ( xxmaj reuters ) xxmaj reuters - xxmaj private investment firm xxmaj carlyle xxmaj group , \\ which has a reputation for making well - timed and occasionally \\ controversial plays in the defense industry , has quietly placed \\ its bets on another part of the market .,xxbos xxmaj oil and xxmaj economy xxmaj cloud xxmaj stocks ' xxmaj outlook ( xxmaj reuters ) xxmaj reuters - xxmaj soaring crude prices plus worries \\ about the economy and the outlook for earnings are expected to \\ hang over the stock market next week during the depth of the \\ summer doldrums .,xxbos xxmaj iraq xxmaj halts xxmaj oil xxmaj exports from xxmaj main xxmaj southern xxmaj pipeline ( xxmaj reuters ) xxmaj reuters - xxmaj authorities have halted oil export \\ flows from the main pipeline in southern xxmaj iraq after \\ intelligence showed a rebel militia could strike \\ infrastructure , an oil official said on xxmaj saturday .,xxbos xxmaj oil prices soar to all - time record , posing new menace to xxup us economy ( xxup afp ) xxup afp - xxmaj xxunk world oil prices , toppling records and straining wallets , present a new economic menace barely three months before the xxup us presidential elections .\n",
              "y: CategoryList\n",
              "3,3,3,3,3\n",
              "Path: /root/.fastai/data/ag_news_csv;\n",
              "\n",
              "Valid: LabelList (7600 items)\n",
              "x: TextList\n",
              "xxbos xxmaj fears for t n pension after talks xxmaj unions representing workers at xxmaj turner xxmaj newall say they are ' disappointed ' after talks with stricken parent firm xxmaj federal xxmaj mogul .,xxbos xxmaj the xxmaj race is xxmaj on : xxmaj second xxmaj private xxmaj team xxmaj sets xxmaj launch xxmaj date for xxmaj human xxmaj spaceflight ( space.com ) space.com - xxup toronto , xxmaj canada -- a second \\ team of rocketeers competing for the $ 10 million xxmaj ansari x xxmaj prize , a contest for \\ privately funded suborbital space flight , has officially announced the first \\ launch date for its manned rocket .,xxbos xxmaj ky. xxmaj company xxmaj wins xxmaj grant to xxmaj study xxmaj peptides ( xxup ap ) xxup ap - a company founded by a chemistry researcher at the xxmaj university of xxmaj louisville won a grant to develop a method of producing better peptides , which are short chains of amino acids , the building blocks of proteins .,xxbos xxmaj prediction xxmaj unit xxmaj helps xxmaj forecast xxmaj wildfires ( xxup ap ) xxup ap - xxmaj it 's barely dawn when xxmaj mike xxmaj fitzpatrick starts his shift with a blur of colorful maps , figures and endless charts , but already he knows what the day will bring . xxmaj lightning will strike in places he expects . xxmaj winds will pick up , moist places will dry and flames will roar .,xxbos xxmaj calif. xxmaj aims to xxmaj limit xxmaj farm - xxmaj related xxmaj smog ( xxup ap ) xxup ap - xxmaj southern xxmaj california 's smog - fighting agency went after emissions of the bovine variety xxmaj friday , adopting the nation 's first rules to reduce air pollution from dairy cow manure .\n",
              "y: CategoryList\n",
              "3,4,4,4,4\n",
              "Path: /root/.fastai/data/ag_news_csv;\n",
              "\n",
              "Test: None, model=SequentialRNN(\n",
              "  (0): MultiBatchEncoder(\n",
              "    (module): AWD_LSTM(\n",
              "      (encoder): Embedding(36536, 400, padding_idx=1)\n",
              "      (encoder_dp): EmbeddingDropout(\n",
              "        (emb): Embedding(36536, 400, padding_idx=1)\n",
              "      )\n",
              "      (rnns): ModuleList(\n",
              "        (0): WeightDropout(\n",
              "          (module): LSTM(400, 1152, batch_first=True)\n",
              "        )\n",
              "        (1): WeightDropout(\n",
              "          (module): LSTM(1152, 1152, batch_first=True)\n",
              "        )\n",
              "        (2): WeightDropout(\n",
              "          (module): LSTM(1152, 400, batch_first=True)\n",
              "        )\n",
              "      )\n",
              "      (input_dp): RNNDropout()\n",
              "      (hidden_dps): ModuleList(\n",
              "        (0): RNNDropout()\n",
              "        (1): RNNDropout()\n",
              "        (2): RNNDropout()\n",
              "      )\n",
              "    )\n",
              "  )\n",
              "  (1): PoolingLinearClassifier(\n",
              "    (layers): Sequential(\n",
              "      (0): BatchNorm1d(1200, eps=1e-05, momentum=0.1, affine=True, track_running_stats=True)\n",
              "      (1): Dropout(p=0.2)\n",
              "      (2): Linear(in_features=1200, out_features=50, bias=True)\n",
              "      (3): ReLU(inplace)\n",
              "      (4): BatchNorm1d(50, eps=1e-05, momentum=0.1, affine=True, track_running_stats=True)\n",
              "      (5): Dropout(p=0.1)\n",
              "      (6): Linear(in_features=50, out_features=4, bias=True)\n",
              "    )\n",
              "  )\n",
              "), opt_func=functools.partial(<class 'torch.optim.adam.Adam'>, betas=(0.9, 0.99)), loss_func=FlattenedLoss of CrossEntropyLoss(), metrics=[<function accuracy at 0x7f70d903eb70>], true_wd=True, bn_wd=True, wd=0.01, train_bn=True, path=PosixPath('/root/.fastai/data/ag_news_csv'), model_dir='models', callback_fns=[functools.partial(<class 'fastai.basic_train.Recorder'>, add_time=True, silent=False)], callbacks=[...], layer_groups=[Sequential(\n",
              "  (0): Embedding(36536, 400, padding_idx=1)\n",
              "  (1): EmbeddingDropout(\n",
              "    (emb): Embedding(36536, 400, padding_idx=1)\n",
              "  )\n",
              "), Sequential(\n",
              "  (0): WeightDropout(\n",
              "    (module): LSTM(400, 1152, batch_first=True)\n",
              "  )\n",
              "  (1): RNNDropout()\n",
              "), Sequential(\n",
              "  (0): WeightDropout(\n",
              "    (module): LSTM(1152, 1152, batch_first=True)\n",
              "  )\n",
              "  (1): RNNDropout()\n",
              "), Sequential(\n",
              "  (0): WeightDropout(\n",
              "    (module): LSTM(1152, 400, batch_first=True)\n",
              "  )\n",
              "  (1): RNNDropout()\n",
              "), Sequential(\n",
              "  (0): PoolingLinearClassifier(\n",
              "    (layers): Sequential(\n",
              "      (0): BatchNorm1d(1200, eps=1e-05, momentum=0.1, affine=True, track_running_stats=True)\n",
              "      (1): Dropout(p=0.2)\n",
              "      (2): Linear(in_features=1200, out_features=50, bias=True)\n",
              "      (3): ReLU(inplace)\n",
              "      (4): BatchNorm1d(50, eps=1e-05, momentum=0.1, affine=True, track_running_stats=True)\n",
              "      (5): Dropout(p=0.1)\n",
              "      (6): Linear(in_features=50, out_features=4, bias=True)\n",
              "    )\n",
              "  )\n",
              ")], add_time=True, silent=False, cb_fns_registered=True)\n",
              "alpha: 2.0\n",
              "beta: 1.0], layer_groups=[Sequential(\n",
              "  (0): Embedding(36536, 400, padding_idx=1)\n",
              "  (1): EmbeddingDropout(\n",
              "    (emb): Embedding(36536, 400, padding_idx=1)\n",
              "  )\n",
              "), Sequential(\n",
              "  (0): WeightDropout(\n",
              "    (module): LSTM(400, 1152, batch_first=True)\n",
              "  )\n",
              "  (1): RNNDropout()\n",
              "), Sequential(\n",
              "  (0): WeightDropout(\n",
              "    (module): LSTM(1152, 1152, batch_first=True)\n",
              "  )\n",
              "  (1): RNNDropout()\n",
              "), Sequential(\n",
              "  (0): WeightDropout(\n",
              "    (module): LSTM(1152, 400, batch_first=True)\n",
              "  )\n",
              "  (1): RNNDropout()\n",
              "), Sequential(\n",
              "  (0): PoolingLinearClassifier(\n",
              "    (layers): Sequential(\n",
              "      (0): BatchNorm1d(1200, eps=1e-05, momentum=0.1, affine=True, track_running_stats=True)\n",
              "      (1): Dropout(p=0.2)\n",
              "      (2): Linear(in_features=1200, out_features=50, bias=True)\n",
              "      (3): ReLU(inplace)\n",
              "      (4): BatchNorm1d(50, eps=1e-05, momentum=0.1, affine=True, track_running_stats=True)\n",
              "      (5): Dropout(p=0.1)\n",
              "      (6): Linear(in_features=50, out_features=4, bias=True)\n",
              "    )\n",
              "  )\n",
              ")], add_time=True, silent=False, cb_fns_registered=True)"
            ]
          },
          "metadata": {
            "tags": []
          },
          "execution_count": 43
        }
      ]
    },
    {
      "cell_type": "markdown",
      "metadata": {
        "id": "7c6NIBVDSJpL",
        "colab_type": "text"
      },
      "source": [
        "Unfreeze all the layers and train the model."
      ]
    },
    {
      "cell_type": "code",
      "metadata": {
        "id": "7Qso-VJ1Hv3_",
        "colab_type": "code",
        "colab": {
          "base_uri": "https://localhost:8080/",
          "height": 111
        },
        "outputId": "ba9b2222-07ff-4759-e664-44864fc27cde"
      },
      "source": [
        "learn.unfreeze()\n",
        "learn.fit_one_cycle(2, slice(1e-3/(2.6**4),1e-3), moms=(0.8,0.7))"
      ],
      "execution_count": 44,
      "outputs": [
        {
          "output_type": "display_data",
          "data": {
            "text/html": [
              "<table border=\"1\" class=\"dataframe\">\n",
              "  <thead>\n",
              "    <tr style=\"text-align: left;\">\n",
              "      <th>epoch</th>\n",
              "      <th>train_loss</th>\n",
              "      <th>valid_loss</th>\n",
              "      <th>accuracy</th>\n",
              "      <th>time</th>\n",
              "    </tr>\n",
              "  </thead>\n",
              "  <tbody>\n",
              "    <tr>\n",
              "      <td>0</td>\n",
              "      <td>0.155242</td>\n",
              "      <td>0.178850</td>\n",
              "      <td>0.938684</td>\n",
              "      <td>11:11</td>\n",
              "    </tr>\n",
              "    <tr>\n",
              "      <td>1</td>\n",
              "      <td>0.142442</td>\n",
              "      <td>0.174637</td>\n",
              "      <td>0.940921</td>\n",
              "      <td>11:12</td>\n",
              "    </tr>\n",
              "  </tbody>\n",
              "</table>"
            ],
            "text/plain": [
              "<IPython.core.display.HTML object>"
            ]
          },
          "metadata": {
            "tags": []
          }
        }
      ]
    },
    {
      "cell_type": "code",
      "metadata": {
        "id": "WoDKYQzeHzNf",
        "colab_type": "code",
        "colab": {
          "base_uri": "https://localhost:8080/",
          "height": 34
        },
        "outputId": "e1495b69-9ec9-446e-850d-679afc5c66a6"
      },
      "source": [
        "learn.predict(\"Cricket is a good game. It has eleven players for each team. Two teams play at a time\")"
      ],
      "execution_count": 45,
      "outputs": [
        {
          "output_type": "execute_result",
          "data": {
            "text/plain": [
              "(Category 2, tensor(1), tensor([0.0044, 0.9887, 0.0024, 0.0046]))"
            ]
          },
          "metadata": {
            "tags": []
          },
          "execution_count": 45
        }
      ]
    }
  ]
}